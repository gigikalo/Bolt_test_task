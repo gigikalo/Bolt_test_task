{
 "cells": [
  {
   "cell_type": "code",
   "execution_count": 1,
   "metadata": {},
   "outputs": [],
   "source": [
    "import numpy as np\n",
    "import pandas as pd\n",
    "import pandas_profiling\n",
    "import matplotlib.pyplot as plt\n",
    "import matplotlib\n",
    "%matplotlib inline\n",
    "import seaborn as sns\n",
    "\n",
    "import plotly.graph_objects as go\n",
    "\n"
   ]
  },
  {
   "cell_type": "code",
   "execution_count": 6,
   "metadata": {},
   "outputs": [],
   "source": [
    "df = pd.read_csv('/home/polina/Downloads/SupplyDemand_Difference_WeekdayHour.csv')"
   ]
  },
  {
   "cell_type": "code",
   "execution_count": 7,
   "metadata": {
    "scrolled": true
   },
   "outputs": [
    {
     "data": {
      "text/html": [
       "<div>\n",
       "<style scoped>\n",
       "    .dataframe tbody tr th:only-of-type {\n",
       "        vertical-align: middle;\n",
       "    }\n",
       "\n",
       "    .dataframe tbody tr th {\n",
       "        vertical-align: top;\n",
       "    }\n",
       "\n",
       "    .dataframe thead th {\n",
       "        text-align: right;\n",
       "    }\n",
       "</style>\n",
       "<table border=\"1\" class=\"dataframe\">\n",
       "  <thead>\n",
       "    <tr style=\"text-align: right;\">\n",
       "      <th></th>\n",
       "      <th>Weekday</th>\n",
       "      <th>Hour</th>\n",
       "      <th>SUM of Rides possible to serve - All Users on the app</th>\n",
       "    </tr>\n",
       "  </thead>\n",
       "  <tbody>\n",
       "    <tr>\n",
       "      <td>0</td>\n",
       "      <td>Friday</td>\n",
       "      <td>0</td>\n",
       "      <td>-21.050000</td>\n",
       "    </tr>\n",
       "    <tr>\n",
       "      <td>1</td>\n",
       "      <td>Friday</td>\n",
       "      <td>1</td>\n",
       "      <td>49.700000</td>\n",
       "    </tr>\n",
       "    <tr>\n",
       "      <td>2</td>\n",
       "      <td>Friday</td>\n",
       "      <td>2</td>\n",
       "      <td>90.500000</td>\n",
       "    </tr>\n",
       "    <tr>\n",
       "      <td>3</td>\n",
       "      <td>Friday</td>\n",
       "      <td>3</td>\n",
       "      <td>-18.500000</td>\n",
       "    </tr>\n",
       "    <tr>\n",
       "      <td>4</td>\n",
       "      <td>Friday</td>\n",
       "      <td>4</td>\n",
       "      <td>-25.981982</td>\n",
       "    </tr>\n",
       "  </tbody>\n",
       "</table>\n",
       "</div>"
      ],
      "text/plain": [
       "  Weekday  Hour  SUM of Rides possible to serve - All Users on the app\n",
       "0  Friday     0                                         -21.050000    \n",
       "1  Friday     1                                          49.700000    \n",
       "2  Friday     2                                          90.500000    \n",
       "3  Friday     3                                         -18.500000    \n",
       "4  Friday     4                                         -25.981982    "
      ]
     },
     "execution_count": 7,
     "metadata": {},
     "output_type": "execute_result"
    }
   ],
   "source": [
    "df.head()"
   ]
  },
  {
   "cell_type": "code",
   "execution_count": 57,
   "metadata": {},
   "outputs": [],
   "source": [
    "X = df['SUM of Rides possible to serve - All Users on the app'].apply(lambda x: x*-1)\n",
    "X = X.values.reshape(-1, 1)"
   ]
  },
  {
   "cell_type": "code",
   "execution_count": 58,
   "metadata": {},
   "outputs": [],
   "source": [
    "from sklearn.preprocessing import QuantileTransformer\n",
    "qt = QuantileTransformer(n_quantiles=10, random_state=0)\n",
    "df['Normalized'] = qt.fit_transform(X) "
   ]
  },
  {
   "cell_type": "code",
   "execution_count": 59,
   "metadata": {},
   "outputs": [],
   "source": [
    "df_aggregated = df.groupby(by = ['Weekday', 'Hour']).aggregate('mean')\n",
    "df_aggregated = df_aggregated.reset_index()"
   ]
  },
  {
   "cell_type": "code",
   "execution_count": 123,
   "metadata": {},
   "outputs": [],
   "source": [
    "pre_pivoted  = df_aggregated[['Normalized', 'Weekday','Hour']]\n",
    "#pivoted = pre_pivoted.pivot_table('WeekDay','Hour', 'Supply Demand score Squared hours')\n",
    "pivoted = pre_pivoted.pivot_table(values = 'Normalized', index=['Weekday'],\n",
    "                                columns =['Hour'], aggfunc=np.mean)\n",
    "\n",
    "# columns = ['Monday', 'Tuesday', 'Wednesday', 'Thursday', 'Friday', 'Saturday', 'Sunday']\n",
    "x_axis = [ 0,  1,  2,  3,  4,  5,  6,  7,  8,  9, 10, 11, 12, 13, 14, 15, 16,\n",
    "            17, 18, 19, 20, 21, 22, 23]\n",
    "new_index= ['Sunday', 'Saturday', 'Friday', 'Thursday', 'Wednesday', 'Tuesday', 'Monday']\n",
    "pivoted = pivoted.reindex(new_index)\n",
    "# pivoted = pivoted[columns]\n",
    "pivoted.to_csv('pivoted')"
   ]
  },
  {
   "cell_type": "code",
   "execution_count": 124,
   "metadata": {},
   "outputs": [
    {
     "data": {
      "text/html": [
       "<div>\n",
       "<style scoped>\n",
       "    .dataframe tbody tr th:only-of-type {\n",
       "        vertical-align: middle;\n",
       "    }\n",
       "\n",
       "    .dataframe tbody tr th {\n",
       "        vertical-align: top;\n",
       "    }\n",
       "\n",
       "    .dataframe thead th {\n",
       "        text-align: right;\n",
       "    }\n",
       "</style>\n",
       "<table border=\"1\" class=\"dataframe\">\n",
       "  <thead>\n",
       "    <tr style=\"text-align: right;\">\n",
       "      <th>Hour</th>\n",
       "      <th>0</th>\n",
       "      <th>1</th>\n",
       "      <th>2</th>\n",
       "      <th>3</th>\n",
       "      <th>4</th>\n",
       "      <th>5</th>\n",
       "      <th>6</th>\n",
       "      <th>7</th>\n",
       "      <th>8</th>\n",
       "      <th>9</th>\n",
       "      <th>...</th>\n",
       "      <th>14</th>\n",
       "      <th>15</th>\n",
       "      <th>16</th>\n",
       "      <th>17</th>\n",
       "      <th>18</th>\n",
       "      <th>19</th>\n",
       "      <th>20</th>\n",
       "      <th>21</th>\n",
       "      <th>22</th>\n",
       "      <th>23</th>\n",
       "    </tr>\n",
       "    <tr>\n",
       "      <th>Weekday</th>\n",
       "      <th></th>\n",
       "      <th></th>\n",
       "      <th></th>\n",
       "      <th></th>\n",
       "      <th></th>\n",
       "      <th></th>\n",
       "      <th></th>\n",
       "      <th></th>\n",
       "      <th></th>\n",
       "      <th></th>\n",
       "      <th></th>\n",
       "      <th></th>\n",
       "      <th></th>\n",
       "      <th></th>\n",
       "      <th></th>\n",
       "      <th></th>\n",
       "      <th></th>\n",
       "      <th></th>\n",
       "      <th></th>\n",
       "      <th></th>\n",
       "      <th></th>\n",
       "    </tr>\n",
       "  </thead>\n",
       "  <tbody>\n",
       "    <tr>\n",
       "      <td>Sunday</td>\n",
       "      <td>0.088982</td>\n",
       "      <td>0.300662</td>\n",
       "      <td>0.219009</td>\n",
       "      <td>0.227169</td>\n",
       "      <td>0.792383</td>\n",
       "      <td>0.289243</td>\n",
       "      <td>0.569463</td>\n",
       "      <td>0.222091</td>\n",
       "      <td>0.722626</td>\n",
       "      <td>0.645809</td>\n",
       "      <td>...</td>\n",
       "      <td>0.496112</td>\n",
       "      <td>0.171775</td>\n",
       "      <td>0.159907</td>\n",
       "      <td>0.105872</td>\n",
       "      <td>0.730810</td>\n",
       "      <td>0.212757</td>\n",
       "      <td>0.183036</td>\n",
       "      <td>0.087728</td>\n",
       "      <td>0.603143</td>\n",
       "      <td>0.777779</td>\n",
       "    </tr>\n",
       "    <tr>\n",
       "      <td>Saturday</td>\n",
       "      <td>0.597917</td>\n",
       "      <td>0.385443</td>\n",
       "      <td>0.723559</td>\n",
       "      <td>0.867366</td>\n",
       "      <td>0.889223</td>\n",
       "      <td>0.562918</td>\n",
       "      <td>0.385611</td>\n",
       "      <td>0.498016</td>\n",
       "      <td>0.687167</td>\n",
       "      <td>0.688285</td>\n",
       "      <td>...</td>\n",
       "      <td>0.322137</td>\n",
       "      <td>0.449855</td>\n",
       "      <td>0.444115</td>\n",
       "      <td>0.305167</td>\n",
       "      <td>0.057010</td>\n",
       "      <td>0.166973</td>\n",
       "      <td>0.074411</td>\n",
       "      <td>0.062937</td>\n",
       "      <td>0.000000</td>\n",
       "      <td>0.035083</td>\n",
       "    </tr>\n",
       "    <tr>\n",
       "      <td>Friday</td>\n",
       "      <td>0.777835</td>\n",
       "      <td>0.445876</td>\n",
       "      <td>0.257216</td>\n",
       "      <td>0.767934</td>\n",
       "      <td>0.783347</td>\n",
       "      <td>0.392463</td>\n",
       "      <td>0.559648</td>\n",
       "      <td>0.711649</td>\n",
       "      <td>0.900688</td>\n",
       "      <td>0.954892</td>\n",
       "      <td>...</td>\n",
       "      <td>0.845575</td>\n",
       "      <td>0.891017</td>\n",
       "      <td>0.871256</td>\n",
       "      <td>0.778432</td>\n",
       "      <td>0.954826</td>\n",
       "      <td>0.926646</td>\n",
       "      <td>0.825476</td>\n",
       "      <td>0.450125</td>\n",
       "      <td>0.025319</td>\n",
       "      <td>0.011614</td>\n",
       "    </tr>\n",
       "    <tr>\n",
       "      <td>Thursday</td>\n",
       "      <td>0.743408</td>\n",
       "      <td>0.153291</td>\n",
       "      <td>0.673262</td>\n",
       "      <td>0.777730</td>\n",
       "      <td>0.609934</td>\n",
       "      <td>0.353415</td>\n",
       "      <td>0.409427</td>\n",
       "      <td>0.571750</td>\n",
       "      <td>0.897634</td>\n",
       "      <td>0.877427</td>\n",
       "      <td>...</td>\n",
       "      <td>0.551978</td>\n",
       "      <td>0.308203</td>\n",
       "      <td>0.238840</td>\n",
       "      <td>0.895462</td>\n",
       "      <td>1.000000</td>\n",
       "      <td>0.944907</td>\n",
       "      <td>0.808079</td>\n",
       "      <td>0.224187</td>\n",
       "      <td>0.163330</td>\n",
       "      <td>0.708056</td>\n",
       "    </tr>\n",
       "    <tr>\n",
       "      <td>Wednesday</td>\n",
       "      <td>0.426144</td>\n",
       "      <td>0.450802</td>\n",
       "      <td>0.250210</td>\n",
       "      <td>0.685179</td>\n",
       "      <td>0.662987</td>\n",
       "      <td>0.517142</td>\n",
       "      <td>0.555980</td>\n",
       "      <td>0.672721</td>\n",
       "      <td>0.903566</td>\n",
       "      <td>0.888294</td>\n",
       "      <td>...</td>\n",
       "      <td>0.221371</td>\n",
       "      <td>0.095588</td>\n",
       "      <td>0.200823</td>\n",
       "      <td>0.903120</td>\n",
       "      <td>0.953919</td>\n",
       "      <td>0.860430</td>\n",
       "      <td>0.091248</td>\n",
       "      <td>0.033259</td>\n",
       "      <td>0.078775</td>\n",
       "      <td>0.126975</td>\n",
       "    </tr>\n",
       "    <tr>\n",
       "      <td>Tuesday</td>\n",
       "      <td>0.414901</td>\n",
       "      <td>0.602707</td>\n",
       "      <td>0.334014</td>\n",
       "      <td>0.372856</td>\n",
       "      <td>0.344169</td>\n",
       "      <td>0.338431</td>\n",
       "      <td>0.303606</td>\n",
       "      <td>0.735759</td>\n",
       "      <td>0.914441</td>\n",
       "      <td>0.932833</td>\n",
       "      <td>...</td>\n",
       "      <td>0.598398</td>\n",
       "      <td>0.337927</td>\n",
       "      <td>0.490275</td>\n",
       "      <td>0.276572</td>\n",
       "      <td>0.946978</td>\n",
       "      <td>0.899639</td>\n",
       "      <td>0.314919</td>\n",
       "      <td>0.069010</td>\n",
       "      <td>0.389767</td>\n",
       "      <td>0.322604</td>\n",
       "    </tr>\n",
       "    <tr>\n",
       "      <td>Monday</td>\n",
       "      <td>0.451750</td>\n",
       "      <td>0.505620</td>\n",
       "      <td>0.406290</td>\n",
       "      <td>0.588382</td>\n",
       "      <td>0.593215</td>\n",
       "      <td>0.550580</td>\n",
       "      <td>0.648355</td>\n",
       "      <td>0.834406</td>\n",
       "      <td>0.916211</td>\n",
       "      <td>0.927224</td>\n",
       "      <td>...</td>\n",
       "      <td>0.109959</td>\n",
       "      <td>0.184309</td>\n",
       "      <td>0.133922</td>\n",
       "      <td>0.114350</td>\n",
       "      <td>0.849767</td>\n",
       "      <td>0.790403</td>\n",
       "      <td>0.083382</td>\n",
       "      <td>0.056593</td>\n",
       "      <td>0.368909</td>\n",
       "      <td>0.164404</td>\n",
       "    </tr>\n",
       "  </tbody>\n",
       "</table>\n",
       "<p>7 rows × 24 columns</p>\n",
       "</div>"
      ],
      "text/plain": [
       "Hour             0         1         2         3         4         5   \\\n",
       "Weekday                                                                 \n",
       "Sunday     0.088982  0.300662  0.219009  0.227169  0.792383  0.289243   \n",
       "Saturday   0.597917  0.385443  0.723559  0.867366  0.889223  0.562918   \n",
       "Friday     0.777835  0.445876  0.257216  0.767934  0.783347  0.392463   \n",
       "Thursday   0.743408  0.153291  0.673262  0.777730  0.609934  0.353415   \n",
       "Wednesday  0.426144  0.450802  0.250210  0.685179  0.662987  0.517142   \n",
       "Tuesday    0.414901  0.602707  0.334014  0.372856  0.344169  0.338431   \n",
       "Monday     0.451750  0.505620  0.406290  0.588382  0.593215  0.550580   \n",
       "\n",
       "Hour             6         7         8         9   ...        14        15  \\\n",
       "Weekday                                            ...                       \n",
       "Sunday     0.569463  0.222091  0.722626  0.645809  ...  0.496112  0.171775   \n",
       "Saturday   0.385611  0.498016  0.687167  0.688285  ...  0.322137  0.449855   \n",
       "Friday     0.559648  0.711649  0.900688  0.954892  ...  0.845575  0.891017   \n",
       "Thursday   0.409427  0.571750  0.897634  0.877427  ...  0.551978  0.308203   \n",
       "Wednesday  0.555980  0.672721  0.903566  0.888294  ...  0.221371  0.095588   \n",
       "Tuesday    0.303606  0.735759  0.914441  0.932833  ...  0.598398  0.337927   \n",
       "Monday     0.648355  0.834406  0.916211  0.927224  ...  0.109959  0.184309   \n",
       "\n",
       "Hour             16        17        18        19        20        21  \\\n",
       "Weekday                                                                 \n",
       "Sunday     0.159907  0.105872  0.730810  0.212757  0.183036  0.087728   \n",
       "Saturday   0.444115  0.305167  0.057010  0.166973  0.074411  0.062937   \n",
       "Friday     0.871256  0.778432  0.954826  0.926646  0.825476  0.450125   \n",
       "Thursday   0.238840  0.895462  1.000000  0.944907  0.808079  0.224187   \n",
       "Wednesday  0.200823  0.903120  0.953919  0.860430  0.091248  0.033259   \n",
       "Tuesday    0.490275  0.276572  0.946978  0.899639  0.314919  0.069010   \n",
       "Monday     0.133922  0.114350  0.849767  0.790403  0.083382  0.056593   \n",
       "\n",
       "Hour             22        23  \n",
       "Weekday                        \n",
       "Sunday     0.603143  0.777779  \n",
       "Saturday   0.000000  0.035083  \n",
       "Friday     0.025319  0.011614  \n",
       "Thursday   0.163330  0.708056  \n",
       "Wednesday  0.078775  0.126975  \n",
       "Tuesday    0.389767  0.322604  \n",
       "Monday     0.368909  0.164404  \n",
       "\n",
       "[7 rows x 24 columns]"
      ]
     },
     "execution_count": 124,
     "metadata": {},
     "output_type": "execute_result"
    }
   ],
   "source": [
    "pivoted"
   ]
  },
  {
   "cell_type": "code",
   "execution_count": 119,
   "metadata": {},
   "outputs": [],
   "source": []
  },
  {
   "cell_type": "code",
   "execution_count": 126,
   "metadata": {
    "scrolled": false
   },
   "outputs": [
    {
     "data": {
      "application/vnd.plotly.v1+json": {
       "config": {
        "plotlyServerURL": "https://plot.ly"
       },
       "data": [
        {
         "colorscale": [
          [
           0,
           "rgb(254, 254, 254)"
          ],
          [
           0.1,
           "rgb(234, 250, 243)"
          ],
          [
           0.2,
           "rgb(214, 245, 231)"
          ],
          [
           0.3,
           "rgb(154,232,195)"
          ],
          [
           0.4,
           "rgb(93,218,159)"
          ],
          [
           0.5,
           "rgb(53,209,135)"
          ],
          [
           0.6,
           "rgb(47,188,121)"
          ],
          [
           0.7,
           "rgb(42,167,108)"
          ],
          [
           0.8,
           "rgb(31,125,81)"
          ],
          [
           0.9,
           "rgb(21,83,54)"
          ],
          [
           1,
           "rgb(15,62,40)"
          ]
         ],
         "type": "heatmap",
         "x": [
          0,
          1,
          2,
          3,
          4,
          5,
          6,
          7,
          8,
          9,
          10,
          11,
          12,
          13,
          14,
          15,
          16,
          17,
          18,
          19,
          20,
          21,
          22,
          23
         ],
         "y": [
          "Sunday",
          "Saturday",
          "Friday",
          "Thursday",
          "Wednesday",
          "Tuesday",
          "Monday"
         ],
         "z": [
          [
           0.08898242366307914,
           0.30066240554854406,
           0.21900881546155387,
           0.22716889752860334,
           0.7923830827696567,
           0.2892426661474702,
           0.5694631065642305,
           0.22209082402811445,
           0.7226257571031224,
           0.6458089356196802,
           0.357170768206316,
           0.5860309496637073,
           0.6779084301193017,
           0.6629654055903633,
           0.4961121600642408,
           0.17177461035916497,
           0.15990657013844212,
           0.10587191927515467,
           0.7308103318432585,
           0.21275652956691568,
           0.18303586341831046,
           0.08772844359740697,
           0.6031431115257178,
           0.7777794558922146
          ],
          [
           0.5979173834241573,
           0.3854428036810689,
           0.7235588800857498,
           0.8673663130561948,
           0.8892228065102399,
           0.5629179456165012,
           0.38561058230745304,
           0.49801562189430937,
           0.6871670837238812,
           0.6882851500024569,
           0.3319447928817053,
           0.6766608101287188,
           0.46555362346087203,
           0.2942543353584805,
           0.3221366481443707,
           0.44985481814185396,
           0.44411475305179143,
           0.30516700091597915,
           0.05700977918889371,
           0.166972938955127,
           0.07441078687002262,
           0.06293687360172354,
           0,
           0.0350828227164138
          ],
          [
           0.7778353371174968,
           0.4458759829979105,
           0.2572160710734411,
           0.7679340619765971,
           0.7833474410397274,
           0.3924625549073316,
           0.5596475224356616,
           0.7116491857894202,
           0.9006884450668229,
           0.95489177046874,
           0.8491845862444473,
           0.47514884155692294,
           0.7121194835079598,
           0.7874096537195517,
           0.8455753567124413,
           0.8910168637549649,
           0.8712563277514886,
           0.7784319015749649,
           0.95482572676227,
           0.9266461097294394,
           0.8254759443817041,
           0.45012548721279855,
           0.025319427308672635,
           0.011613921751028697
          ],
          [
           0.7434084795559553,
           0.15329140172413597,
           0.6732622435885275,
           0.7777304522333532,
           0.609933514960201,
           0.35341456634476615,
           0.40942737872931195,
           0.5717498140870796,
           0.8976341087686476,
           0.8774270028887413,
           0.6120574465336825,
           0.5537917362120836,
           0.4493811473103313,
           0.6524749037316333,
           0.5519782535220157,
           0.30820285523943985,
           0.23883970012059846,
           0.8954621458342891,
           1,
           0.9449069746974417,
           0.8080794980439225,
           0.2241872176986066,
           0.16332992882692265,
           0.7080559775293892
          ],
          [
           0.42614358827318743,
           0.45080215986173966,
           0.25021025340391634,
           0.685179410339309,
           0.662986978300313,
           0.5171416827505617,
           0.5559801613132075,
           0.6727209575310253,
           0.9035656776930735,
           0.8882944823817958,
           0.33413479396420154,
           0.10035102209808819,
           0.15332709504248987,
           0.5361576470784422,
           0.22137052573291383,
           0.0955883597468963,
           0.20082305147095056,
           0.9031204987776482,
           0.9539191170657636,
           0.8604298798974921,
           0.0912478430816536,
           0.033259089547654816,
           0.07877517997006858,
           0.1269751243885225
          ],
          [
           0.41490070141960184,
           0.6027066563129322,
           0.33401440290767814,
           0.3728560067299191,
           0.34416853098621003,
           0.3384310358466317,
           0.30360594481974434,
           0.735758599082301,
           0.9144406063261861,
           0.9328334980825184,
           0.743309983241013,
           0.31088841867942435,
           0.5245053441568935,
           0.28268166227376795,
           0.5983975070407427,
           0.3379274571352207,
           0.490274730708932,
           0.2765718878434772,
           0.9469778966993001,
           0.8996388188018634,
           0.31491853294847905,
           0.06900952194228804,
           0.38976658081731075,
           0.3226037026556723
          ],
          [
           0.45174950152478494,
           0.5056199593438656,
           0.4062903309971009,
           0.5883823753068269,
           0.5932146628814987,
           0.5505802843943435,
           0.6483545156715028,
           0.8344057641817804,
           0.916211361771352,
           0.927223910126964,
           0.8152198768312078,
           0.13725318801981296,
           0.21254236940693863,
           0.35373446265790615,
           0.10995927875565514,
           0.1843089263555348,
           0.13392180839201734,
           0.11434995242285284,
           0.8497670270798652,
           0.7904028813927986,
           0.08338213340220986,
           0.05659342703289898,
           0.36890875159469694,
           0.16440393274840026
          ]
         ]
        }
       ],
       "layout": {
        "template": {
         "data": {
          "bar": [
           {
            "error_x": {
             "color": "#2a3f5f"
            },
            "error_y": {
             "color": "#2a3f5f"
            },
            "marker": {
             "line": {
              "color": "#E5ECF6",
              "width": 0.5
             }
            },
            "type": "bar"
           }
          ],
          "barpolar": [
           {
            "marker": {
             "line": {
              "color": "#E5ECF6",
              "width": 0.5
             }
            },
            "type": "barpolar"
           }
          ],
          "carpet": [
           {
            "aaxis": {
             "endlinecolor": "#2a3f5f",
             "gridcolor": "white",
             "linecolor": "white",
             "minorgridcolor": "white",
             "startlinecolor": "#2a3f5f"
            },
            "baxis": {
             "endlinecolor": "#2a3f5f",
             "gridcolor": "white",
             "linecolor": "white",
             "minorgridcolor": "white",
             "startlinecolor": "#2a3f5f"
            },
            "type": "carpet"
           }
          ],
          "choropleth": [
           {
            "colorbar": {
             "outlinewidth": 0,
             "ticks": ""
            },
            "type": "choropleth"
           }
          ],
          "contour": [
           {
            "colorbar": {
             "outlinewidth": 0,
             "ticks": ""
            },
            "colorscale": [
             [
              0,
              "#0d0887"
             ],
             [
              0.1111111111111111,
              "#46039f"
             ],
             [
              0.2222222222222222,
              "#7201a8"
             ],
             [
              0.3333333333333333,
              "#9c179e"
             ],
             [
              0.4444444444444444,
              "#bd3786"
             ],
             [
              0.5555555555555556,
              "#d8576b"
             ],
             [
              0.6666666666666666,
              "#ed7953"
             ],
             [
              0.7777777777777778,
              "#fb9f3a"
             ],
             [
              0.8888888888888888,
              "#fdca26"
             ],
             [
              1,
              "#f0f921"
             ]
            ],
            "type": "contour"
           }
          ],
          "contourcarpet": [
           {
            "colorbar": {
             "outlinewidth": 0,
             "ticks": ""
            },
            "type": "contourcarpet"
           }
          ],
          "heatmap": [
           {
            "colorbar": {
             "outlinewidth": 0,
             "ticks": ""
            },
            "colorscale": [
             [
              0,
              "#0d0887"
             ],
             [
              0.1111111111111111,
              "#46039f"
             ],
             [
              0.2222222222222222,
              "#7201a8"
             ],
             [
              0.3333333333333333,
              "#9c179e"
             ],
             [
              0.4444444444444444,
              "#bd3786"
             ],
             [
              0.5555555555555556,
              "#d8576b"
             ],
             [
              0.6666666666666666,
              "#ed7953"
             ],
             [
              0.7777777777777778,
              "#fb9f3a"
             ],
             [
              0.8888888888888888,
              "#fdca26"
             ],
             [
              1,
              "#f0f921"
             ]
            ],
            "type": "heatmap"
           }
          ],
          "heatmapgl": [
           {
            "colorbar": {
             "outlinewidth": 0,
             "ticks": ""
            },
            "colorscale": [
             [
              0,
              "#0d0887"
             ],
             [
              0.1111111111111111,
              "#46039f"
             ],
             [
              0.2222222222222222,
              "#7201a8"
             ],
             [
              0.3333333333333333,
              "#9c179e"
             ],
             [
              0.4444444444444444,
              "#bd3786"
             ],
             [
              0.5555555555555556,
              "#d8576b"
             ],
             [
              0.6666666666666666,
              "#ed7953"
             ],
             [
              0.7777777777777778,
              "#fb9f3a"
             ],
             [
              0.8888888888888888,
              "#fdca26"
             ],
             [
              1,
              "#f0f921"
             ]
            ],
            "type": "heatmapgl"
           }
          ],
          "histogram": [
           {
            "marker": {
             "colorbar": {
              "outlinewidth": 0,
              "ticks": ""
             }
            },
            "type": "histogram"
           }
          ],
          "histogram2d": [
           {
            "colorbar": {
             "outlinewidth": 0,
             "ticks": ""
            },
            "colorscale": [
             [
              0,
              "#0d0887"
             ],
             [
              0.1111111111111111,
              "#46039f"
             ],
             [
              0.2222222222222222,
              "#7201a8"
             ],
             [
              0.3333333333333333,
              "#9c179e"
             ],
             [
              0.4444444444444444,
              "#bd3786"
             ],
             [
              0.5555555555555556,
              "#d8576b"
             ],
             [
              0.6666666666666666,
              "#ed7953"
             ],
             [
              0.7777777777777778,
              "#fb9f3a"
             ],
             [
              0.8888888888888888,
              "#fdca26"
             ],
             [
              1,
              "#f0f921"
             ]
            ],
            "type": "histogram2d"
           }
          ],
          "histogram2dcontour": [
           {
            "colorbar": {
             "outlinewidth": 0,
             "ticks": ""
            },
            "colorscale": [
             [
              0,
              "#0d0887"
             ],
             [
              0.1111111111111111,
              "#46039f"
             ],
             [
              0.2222222222222222,
              "#7201a8"
             ],
             [
              0.3333333333333333,
              "#9c179e"
             ],
             [
              0.4444444444444444,
              "#bd3786"
             ],
             [
              0.5555555555555556,
              "#d8576b"
             ],
             [
              0.6666666666666666,
              "#ed7953"
             ],
             [
              0.7777777777777778,
              "#fb9f3a"
             ],
             [
              0.8888888888888888,
              "#fdca26"
             ],
             [
              1,
              "#f0f921"
             ]
            ],
            "type": "histogram2dcontour"
           }
          ],
          "mesh3d": [
           {
            "colorbar": {
             "outlinewidth": 0,
             "ticks": ""
            },
            "type": "mesh3d"
           }
          ],
          "parcoords": [
           {
            "line": {
             "colorbar": {
              "outlinewidth": 0,
              "ticks": ""
             }
            },
            "type": "parcoords"
           }
          ],
          "scatter": [
           {
            "marker": {
             "colorbar": {
              "outlinewidth": 0,
              "ticks": ""
             }
            },
            "type": "scatter"
           }
          ],
          "scatter3d": [
           {
            "line": {
             "colorbar": {
              "outlinewidth": 0,
              "ticks": ""
             }
            },
            "marker": {
             "colorbar": {
              "outlinewidth": 0,
              "ticks": ""
             }
            },
            "type": "scatter3d"
           }
          ],
          "scattercarpet": [
           {
            "marker": {
             "colorbar": {
              "outlinewidth": 0,
              "ticks": ""
             }
            },
            "type": "scattercarpet"
           }
          ],
          "scattergeo": [
           {
            "marker": {
             "colorbar": {
              "outlinewidth": 0,
              "ticks": ""
             }
            },
            "type": "scattergeo"
           }
          ],
          "scattergl": [
           {
            "marker": {
             "colorbar": {
              "outlinewidth": 0,
              "ticks": ""
             }
            },
            "type": "scattergl"
           }
          ],
          "scattermapbox": [
           {
            "marker": {
             "colorbar": {
              "outlinewidth": 0,
              "ticks": ""
             }
            },
            "type": "scattermapbox"
           }
          ],
          "scatterpolar": [
           {
            "marker": {
             "colorbar": {
              "outlinewidth": 0,
              "ticks": ""
             }
            },
            "type": "scatterpolar"
           }
          ],
          "scatterpolargl": [
           {
            "marker": {
             "colorbar": {
              "outlinewidth": 0,
              "ticks": ""
             }
            },
            "type": "scatterpolargl"
           }
          ],
          "scatterternary": [
           {
            "marker": {
             "colorbar": {
              "outlinewidth": 0,
              "ticks": ""
             }
            },
            "type": "scatterternary"
           }
          ],
          "surface": [
           {
            "colorbar": {
             "outlinewidth": 0,
             "ticks": ""
            },
            "colorscale": [
             [
              0,
              "#0d0887"
             ],
             [
              0.1111111111111111,
              "#46039f"
             ],
             [
              0.2222222222222222,
              "#7201a8"
             ],
             [
              0.3333333333333333,
              "#9c179e"
             ],
             [
              0.4444444444444444,
              "#bd3786"
             ],
             [
              0.5555555555555556,
              "#d8576b"
             ],
             [
              0.6666666666666666,
              "#ed7953"
             ],
             [
              0.7777777777777778,
              "#fb9f3a"
             ],
             [
              0.8888888888888888,
              "#fdca26"
             ],
             [
              1,
              "#f0f921"
             ]
            ],
            "type": "surface"
           }
          ],
          "table": [
           {
            "cells": {
             "fill": {
              "color": "#EBF0F8"
             },
             "line": {
              "color": "white"
             }
            },
            "header": {
             "fill": {
              "color": "#C8D4E3"
             },
             "line": {
              "color": "white"
             }
            },
            "type": "table"
           }
          ]
         },
         "layout": {
          "annotationdefaults": {
           "arrowcolor": "#2a3f5f",
           "arrowhead": 0,
           "arrowwidth": 1
          },
          "colorscale": {
           "diverging": [
            [
             0,
             "#8e0152"
            ],
            [
             0.1,
             "#c51b7d"
            ],
            [
             0.2,
             "#de77ae"
            ],
            [
             0.3,
             "#f1b6da"
            ],
            [
             0.4,
             "#fde0ef"
            ],
            [
             0.5,
             "#f7f7f7"
            ],
            [
             0.6,
             "#e6f5d0"
            ],
            [
             0.7,
             "#b8e186"
            ],
            [
             0.8,
             "#7fbc41"
            ],
            [
             0.9,
             "#4d9221"
            ],
            [
             1,
             "#276419"
            ]
           ],
           "sequential": [
            [
             0,
             "#0d0887"
            ],
            [
             0.1111111111111111,
             "#46039f"
            ],
            [
             0.2222222222222222,
             "#7201a8"
            ],
            [
             0.3333333333333333,
             "#9c179e"
            ],
            [
             0.4444444444444444,
             "#bd3786"
            ],
            [
             0.5555555555555556,
             "#d8576b"
            ],
            [
             0.6666666666666666,
             "#ed7953"
            ],
            [
             0.7777777777777778,
             "#fb9f3a"
            ],
            [
             0.8888888888888888,
             "#fdca26"
            ],
            [
             1,
             "#f0f921"
            ]
           ],
           "sequentialminus": [
            [
             0,
             "#0d0887"
            ],
            [
             0.1111111111111111,
             "#46039f"
            ],
            [
             0.2222222222222222,
             "#7201a8"
            ],
            [
             0.3333333333333333,
             "#9c179e"
            ],
            [
             0.4444444444444444,
             "#bd3786"
            ],
            [
             0.5555555555555556,
             "#d8576b"
            ],
            [
             0.6666666666666666,
             "#ed7953"
            ],
            [
             0.7777777777777778,
             "#fb9f3a"
            ],
            [
             0.8888888888888888,
             "#fdca26"
            ],
            [
             1,
             "#f0f921"
            ]
           ]
          },
          "colorway": [
           "#636efa",
           "#EF553B",
           "#00cc96",
           "#ab63fa",
           "#FFA15A",
           "#19d3f3",
           "#FF6692",
           "#B6E880",
           "#FF97FF",
           "#FECB52"
          ],
          "font": {
           "color": "#2a3f5f"
          },
          "geo": {
           "bgcolor": "white",
           "lakecolor": "white",
           "landcolor": "#E5ECF6",
           "showlakes": true,
           "showland": true,
           "subunitcolor": "white"
          },
          "hoverlabel": {
           "align": "left"
          },
          "hovermode": "closest",
          "mapbox": {
           "style": "light"
          },
          "paper_bgcolor": "white",
          "plot_bgcolor": "#E5ECF6",
          "polar": {
           "angularaxis": {
            "gridcolor": "white",
            "linecolor": "white",
            "ticks": ""
           },
           "bgcolor": "#E5ECF6",
           "radialaxis": {
            "gridcolor": "white",
            "linecolor": "white",
            "ticks": ""
           }
          },
          "scene": {
           "xaxis": {
            "backgroundcolor": "#E5ECF6",
            "gridcolor": "white",
            "gridwidth": 2,
            "linecolor": "white",
            "showbackground": true,
            "ticks": "",
            "zerolinecolor": "white"
           },
           "yaxis": {
            "backgroundcolor": "#E5ECF6",
            "gridcolor": "white",
            "gridwidth": 2,
            "linecolor": "white",
            "showbackground": true,
            "ticks": "",
            "zerolinecolor": "white"
           },
           "zaxis": {
            "backgroundcolor": "#E5ECF6",
            "gridcolor": "white",
            "gridwidth": 2,
            "linecolor": "white",
            "showbackground": true,
            "ticks": "",
            "zerolinecolor": "white"
           }
          },
          "shapedefaults": {
           "line": {
            "color": "#2a3f5f"
           }
          },
          "ternary": {
           "aaxis": {
            "gridcolor": "white",
            "linecolor": "white",
            "ticks": ""
           },
           "baxis": {
            "gridcolor": "white",
            "linecolor": "white",
            "ticks": ""
           },
           "bgcolor": "#E5ECF6",
           "caxis": {
            "gridcolor": "white",
            "linecolor": "white",
            "ticks": ""
           }
          },
          "title": {
           "x": 0.05
          },
          "xaxis": {
           "automargin": true,
           "gridcolor": "white",
           "linecolor": "white",
           "ticks": "",
           "zerolinecolor": "white",
           "zerolinewidth": 2
          },
          "yaxis": {
           "automargin": true,
           "gridcolor": "white",
           "linecolor": "white",
           "ticks": "",
           "zerolinecolor": "white",
           "zerolinewidth": 2
          }
         }
        },
        "title": {
         "x": 0,
         "xref": "paper"
        },
        "xaxis": {
         "title": {
          "font": {
           "color": "#7f7f7f",
           "family": "Courier New, monospace",
           "size": 18
          }
         },
         "type": "category"
        },
        "yaxis": {
         "title": {
          "font": {
           "color": "#7f7f7f",
           "family": "Courier New, monospace",
           "size": 18
          }
         }
        }
       }
      },
      "text/html": [
       "<div>\n",
       "        \n",
       "        \n",
       "            <div id=\"1a5be7a0-cb2b-4401-ab07-5500a821bc93\" class=\"plotly-graph-div\" style=\"height:525px; width:100%;\"></div>\n",
       "            <script type=\"text/javascript\">\n",
       "                require([\"plotly\"], function(Plotly) {\n",
       "                    window.PLOTLYENV=window.PLOTLYENV || {};\n",
       "                    \n",
       "                if (document.getElementById(\"1a5be7a0-cb2b-4401-ab07-5500a821bc93\")) {\n",
       "                    Plotly.newPlot(\n",
       "                        '1a5be7a0-cb2b-4401-ab07-5500a821bc93',\n",
       "                        [{\"colorscale\": [[0.0, \"rgb(254, 254, 254)\"], [0.1, \"rgb(234, 250, 243)\"], [0.2, \"rgb(214, 245, 231)\"], [0.3, \"rgb(154,232,195)\"], [0.4, \"rgb(93,218,159)\"], [0.5, \"rgb(53,209,135)\"], [0.6, \"rgb(47,188,121)\"], [0.7, \"rgb(42,167,108)\"], [0.8, \"rgb(31,125,81)\"], [0.9, \"rgb(21,83,54)\"], [1.0, \"rgb(15,62,40)\"]], \"type\": \"heatmap\", \"x\": [0, 1, 2, 3, 4, 5, 6, 7, 8, 9, 10, 11, 12, 13, 14, 15, 16, 17, 18, 19, 20, 21, 22, 23], \"y\": [\"Sunday\", \"Saturday\", \"Friday\", \"Thursday\", \"Wednesday\", \"Tuesday\", \"Monday\"], \"z\": [[0.08898242366307914, 0.30066240554854406, 0.21900881546155387, 0.22716889752860334, 0.7923830827696567, 0.2892426661474702, 0.5694631065642305, 0.22209082402811445, 0.7226257571031224, 0.6458089356196802, 0.357170768206316, 0.5860309496637073, 0.6779084301193017, 0.6629654055903633, 0.4961121600642408, 0.17177461035916497, 0.15990657013844212, 0.10587191927515467, 0.7308103318432585, 0.21275652956691568, 0.18303586341831046, 0.08772844359740697, 0.6031431115257178, 0.7777794558922146], [0.5979173834241573, 0.3854428036810689, 0.7235588800857498, 0.8673663130561948, 0.8892228065102399, 0.5629179456165012, 0.38561058230745304, 0.49801562189430937, 0.6871670837238812, 0.6882851500024569, 0.3319447928817053, 0.6766608101287188, 0.46555362346087203, 0.2942543353584805, 0.3221366481443707, 0.44985481814185396, 0.44411475305179143, 0.30516700091597915, 0.05700977918889371, 0.166972938955127, 0.07441078687002262, 0.06293687360172354, 0.0, 0.0350828227164138], [0.7778353371174968, 0.4458759829979105, 0.2572160710734411, 0.7679340619765971, 0.7833474410397274, 0.3924625549073316, 0.5596475224356616, 0.7116491857894202, 0.9006884450668229, 0.95489177046874, 0.8491845862444473, 0.47514884155692294, 0.7121194835079598, 0.7874096537195517, 0.8455753567124413, 0.8910168637549649, 0.8712563277514886, 0.7784319015749649, 0.95482572676227, 0.9266461097294394, 0.8254759443817041, 0.45012548721279855, 0.025319427308672635, 0.011613921751028697], [0.7434084795559553, 0.15329140172413597, 0.6732622435885275, 0.7777304522333532, 0.609933514960201, 0.35341456634476615, 0.40942737872931195, 0.5717498140870796, 0.8976341087686476, 0.8774270028887413, 0.6120574465336825, 0.5537917362120836, 0.4493811473103313, 0.6524749037316333, 0.5519782535220157, 0.30820285523943985, 0.23883970012059846, 0.8954621458342891, 1.0, 0.9449069746974417, 0.8080794980439225, 0.2241872176986066, 0.16332992882692265, 0.7080559775293892], [0.42614358827318743, 0.45080215986173966, 0.25021025340391634, 0.685179410339309, 0.662986978300313, 0.5171416827505617, 0.5559801613132075, 0.6727209575310253, 0.9035656776930735, 0.8882944823817958, 0.33413479396420154, 0.10035102209808819, 0.15332709504248987, 0.5361576470784422, 0.22137052573291383, 0.0955883597468963, 0.20082305147095056, 0.9031204987776482, 0.9539191170657636, 0.8604298798974921, 0.0912478430816536, 0.033259089547654816, 0.07877517997006858, 0.1269751243885225], [0.41490070141960184, 0.6027066563129322, 0.33401440290767814, 0.3728560067299191, 0.34416853098621003, 0.3384310358466317, 0.30360594481974434, 0.735758599082301, 0.9144406063261861, 0.9328334980825184, 0.743309983241013, 0.31088841867942435, 0.5245053441568935, 0.28268166227376795, 0.5983975070407427, 0.3379274571352207, 0.490274730708932, 0.2765718878434772, 0.9469778966993001, 0.8996388188018634, 0.31491853294847905, 0.06900952194228804, 0.38976658081731075, 0.3226037026556723], [0.45174950152478494, 0.5056199593438656, 0.4062903309971009, 0.5883823753068269, 0.5932146628814987, 0.5505802843943435, 0.6483545156715028, 0.8344057641817804, 0.916211361771352, 0.927223910126964, 0.8152198768312078, 0.13725318801981296, 0.21254236940693863, 0.35373446265790615, 0.10995927875565514, 0.1843089263555348, 0.13392180839201734, 0.11434995242285284, 0.8497670270798652, 0.7904028813927986, 0.08338213340220986, 0.05659342703289898, 0.36890875159469694, 0.16440393274840026]]}],\n",
       "                        {\"template\": {\"data\": {\"bar\": [{\"error_x\": {\"color\": \"#2a3f5f\"}, \"error_y\": {\"color\": \"#2a3f5f\"}, \"marker\": {\"line\": {\"color\": \"#E5ECF6\", \"width\": 0.5}}, \"type\": \"bar\"}], \"barpolar\": [{\"marker\": {\"line\": {\"color\": \"#E5ECF6\", \"width\": 0.5}}, \"type\": \"barpolar\"}], \"carpet\": [{\"aaxis\": {\"endlinecolor\": \"#2a3f5f\", \"gridcolor\": \"white\", \"linecolor\": \"white\", \"minorgridcolor\": \"white\", \"startlinecolor\": \"#2a3f5f\"}, \"baxis\": {\"endlinecolor\": \"#2a3f5f\", \"gridcolor\": \"white\", \"linecolor\": \"white\", \"minorgridcolor\": \"white\", \"startlinecolor\": \"#2a3f5f\"}, \"type\": \"carpet\"}], \"choropleth\": [{\"colorbar\": {\"outlinewidth\": 0, \"ticks\": \"\"}, \"type\": \"choropleth\"}], \"contour\": [{\"colorbar\": {\"outlinewidth\": 0, \"ticks\": \"\"}, \"colorscale\": [[0.0, \"#0d0887\"], [0.1111111111111111, \"#46039f\"], [0.2222222222222222, \"#7201a8\"], [0.3333333333333333, \"#9c179e\"], [0.4444444444444444, \"#bd3786\"], [0.5555555555555556, \"#d8576b\"], [0.6666666666666666, \"#ed7953\"], [0.7777777777777778, \"#fb9f3a\"], [0.8888888888888888, \"#fdca26\"], [1.0, \"#f0f921\"]], \"type\": \"contour\"}], \"contourcarpet\": [{\"colorbar\": {\"outlinewidth\": 0, \"ticks\": \"\"}, \"type\": \"contourcarpet\"}], \"heatmap\": [{\"colorbar\": {\"outlinewidth\": 0, \"ticks\": \"\"}, \"colorscale\": [[0.0, \"#0d0887\"], [0.1111111111111111, \"#46039f\"], [0.2222222222222222, \"#7201a8\"], [0.3333333333333333, \"#9c179e\"], [0.4444444444444444, \"#bd3786\"], [0.5555555555555556, \"#d8576b\"], [0.6666666666666666, \"#ed7953\"], [0.7777777777777778, \"#fb9f3a\"], [0.8888888888888888, \"#fdca26\"], [1.0, \"#f0f921\"]], \"type\": \"heatmap\"}], \"heatmapgl\": [{\"colorbar\": {\"outlinewidth\": 0, \"ticks\": \"\"}, \"colorscale\": [[0.0, \"#0d0887\"], [0.1111111111111111, \"#46039f\"], [0.2222222222222222, \"#7201a8\"], [0.3333333333333333, \"#9c179e\"], [0.4444444444444444, \"#bd3786\"], [0.5555555555555556, \"#d8576b\"], [0.6666666666666666, \"#ed7953\"], [0.7777777777777778, \"#fb9f3a\"], [0.8888888888888888, \"#fdca26\"], [1.0, \"#f0f921\"]], \"type\": \"heatmapgl\"}], \"histogram\": [{\"marker\": {\"colorbar\": {\"outlinewidth\": 0, \"ticks\": \"\"}}, \"type\": \"histogram\"}], \"histogram2d\": [{\"colorbar\": {\"outlinewidth\": 0, \"ticks\": \"\"}, \"colorscale\": [[0.0, \"#0d0887\"], [0.1111111111111111, \"#46039f\"], [0.2222222222222222, \"#7201a8\"], [0.3333333333333333, \"#9c179e\"], [0.4444444444444444, \"#bd3786\"], [0.5555555555555556, \"#d8576b\"], [0.6666666666666666, \"#ed7953\"], [0.7777777777777778, \"#fb9f3a\"], [0.8888888888888888, \"#fdca26\"], [1.0, \"#f0f921\"]], \"type\": \"histogram2d\"}], \"histogram2dcontour\": [{\"colorbar\": {\"outlinewidth\": 0, \"ticks\": \"\"}, \"colorscale\": [[0.0, \"#0d0887\"], [0.1111111111111111, \"#46039f\"], [0.2222222222222222, \"#7201a8\"], [0.3333333333333333, \"#9c179e\"], [0.4444444444444444, \"#bd3786\"], [0.5555555555555556, \"#d8576b\"], [0.6666666666666666, \"#ed7953\"], [0.7777777777777778, \"#fb9f3a\"], [0.8888888888888888, \"#fdca26\"], [1.0, \"#f0f921\"]], \"type\": \"histogram2dcontour\"}], \"mesh3d\": [{\"colorbar\": {\"outlinewidth\": 0, \"ticks\": \"\"}, \"type\": \"mesh3d\"}], \"parcoords\": [{\"line\": {\"colorbar\": {\"outlinewidth\": 0, \"ticks\": \"\"}}, \"type\": \"parcoords\"}], \"scatter\": [{\"marker\": {\"colorbar\": {\"outlinewidth\": 0, \"ticks\": \"\"}}, \"type\": \"scatter\"}], \"scatter3d\": [{\"line\": {\"colorbar\": {\"outlinewidth\": 0, \"ticks\": \"\"}}, \"marker\": {\"colorbar\": {\"outlinewidth\": 0, \"ticks\": \"\"}}, \"type\": \"scatter3d\"}], \"scattercarpet\": [{\"marker\": {\"colorbar\": {\"outlinewidth\": 0, \"ticks\": \"\"}}, \"type\": \"scattercarpet\"}], \"scattergeo\": [{\"marker\": {\"colorbar\": {\"outlinewidth\": 0, \"ticks\": \"\"}}, \"type\": \"scattergeo\"}], \"scattergl\": [{\"marker\": {\"colorbar\": {\"outlinewidth\": 0, \"ticks\": \"\"}}, \"type\": \"scattergl\"}], \"scattermapbox\": [{\"marker\": {\"colorbar\": {\"outlinewidth\": 0, \"ticks\": \"\"}}, \"type\": \"scattermapbox\"}], \"scatterpolar\": [{\"marker\": {\"colorbar\": {\"outlinewidth\": 0, \"ticks\": \"\"}}, \"type\": \"scatterpolar\"}], \"scatterpolargl\": [{\"marker\": {\"colorbar\": {\"outlinewidth\": 0, \"ticks\": \"\"}}, \"type\": \"scatterpolargl\"}], \"scatterternary\": [{\"marker\": {\"colorbar\": {\"outlinewidth\": 0, \"ticks\": \"\"}}, \"type\": \"scatterternary\"}], \"surface\": [{\"colorbar\": {\"outlinewidth\": 0, \"ticks\": \"\"}, \"colorscale\": [[0.0, \"#0d0887\"], [0.1111111111111111, \"#46039f\"], [0.2222222222222222, \"#7201a8\"], [0.3333333333333333, \"#9c179e\"], [0.4444444444444444, \"#bd3786\"], [0.5555555555555556, \"#d8576b\"], [0.6666666666666666, \"#ed7953\"], [0.7777777777777778, \"#fb9f3a\"], [0.8888888888888888, \"#fdca26\"], [1.0, \"#f0f921\"]], \"type\": \"surface\"}], \"table\": [{\"cells\": {\"fill\": {\"color\": \"#EBF0F8\"}, \"line\": {\"color\": \"white\"}}, \"header\": {\"fill\": {\"color\": \"#C8D4E3\"}, \"line\": {\"color\": \"white\"}}, \"type\": \"table\"}]}, \"layout\": {\"annotationdefaults\": {\"arrowcolor\": \"#2a3f5f\", \"arrowhead\": 0, \"arrowwidth\": 1}, \"colorscale\": {\"diverging\": [[0, \"#8e0152\"], [0.1, \"#c51b7d\"], [0.2, \"#de77ae\"], [0.3, \"#f1b6da\"], [0.4, \"#fde0ef\"], [0.5, \"#f7f7f7\"], [0.6, \"#e6f5d0\"], [0.7, \"#b8e186\"], [0.8, \"#7fbc41\"], [0.9, \"#4d9221\"], [1, \"#276419\"]], \"sequential\": [[0.0, \"#0d0887\"], [0.1111111111111111, \"#46039f\"], [0.2222222222222222, \"#7201a8\"], [0.3333333333333333, \"#9c179e\"], [0.4444444444444444, \"#bd3786\"], [0.5555555555555556, \"#d8576b\"], [0.6666666666666666, \"#ed7953\"], [0.7777777777777778, \"#fb9f3a\"], [0.8888888888888888, \"#fdca26\"], [1.0, \"#f0f921\"]], \"sequentialminus\": [[0.0, \"#0d0887\"], [0.1111111111111111, \"#46039f\"], [0.2222222222222222, \"#7201a8\"], [0.3333333333333333, \"#9c179e\"], [0.4444444444444444, \"#bd3786\"], [0.5555555555555556, \"#d8576b\"], [0.6666666666666666, \"#ed7953\"], [0.7777777777777778, \"#fb9f3a\"], [0.8888888888888888, \"#fdca26\"], [1.0, \"#f0f921\"]]}, \"colorway\": [\"#636efa\", \"#EF553B\", \"#00cc96\", \"#ab63fa\", \"#FFA15A\", \"#19d3f3\", \"#FF6692\", \"#B6E880\", \"#FF97FF\", \"#FECB52\"], \"font\": {\"color\": \"#2a3f5f\"}, \"geo\": {\"bgcolor\": \"white\", \"lakecolor\": \"white\", \"landcolor\": \"#E5ECF6\", \"showlakes\": true, \"showland\": true, \"subunitcolor\": \"white\"}, \"hoverlabel\": {\"align\": \"left\"}, \"hovermode\": \"closest\", \"mapbox\": {\"style\": \"light\"}, \"paper_bgcolor\": \"white\", \"plot_bgcolor\": \"#E5ECF6\", \"polar\": {\"angularaxis\": {\"gridcolor\": \"white\", \"linecolor\": \"white\", \"ticks\": \"\"}, \"bgcolor\": \"#E5ECF6\", \"radialaxis\": {\"gridcolor\": \"white\", \"linecolor\": \"white\", \"ticks\": \"\"}}, \"scene\": {\"xaxis\": {\"backgroundcolor\": \"#E5ECF6\", \"gridcolor\": \"white\", \"gridwidth\": 2, \"linecolor\": \"white\", \"showbackground\": true, \"ticks\": \"\", \"zerolinecolor\": \"white\"}, \"yaxis\": {\"backgroundcolor\": \"#E5ECF6\", \"gridcolor\": \"white\", \"gridwidth\": 2, \"linecolor\": \"white\", \"showbackground\": true, \"ticks\": \"\", \"zerolinecolor\": \"white\"}, \"zaxis\": {\"backgroundcolor\": \"#E5ECF6\", \"gridcolor\": \"white\", \"gridwidth\": 2, \"linecolor\": \"white\", \"showbackground\": true, \"ticks\": \"\", \"zerolinecolor\": \"white\"}}, \"shapedefaults\": {\"line\": {\"color\": \"#2a3f5f\"}}, \"ternary\": {\"aaxis\": {\"gridcolor\": \"white\", \"linecolor\": \"white\", \"ticks\": \"\"}, \"baxis\": {\"gridcolor\": \"white\", \"linecolor\": \"white\", \"ticks\": \"\"}, \"bgcolor\": \"#E5ECF6\", \"caxis\": {\"gridcolor\": \"white\", \"linecolor\": \"white\", \"ticks\": \"\"}}, \"title\": {\"x\": 0.05}, \"xaxis\": {\"automargin\": true, \"gridcolor\": \"white\", \"linecolor\": \"white\", \"ticks\": \"\", \"zerolinecolor\": \"white\", \"zerolinewidth\": 2}, \"yaxis\": {\"automargin\": true, \"gridcolor\": \"white\", \"linecolor\": \"white\", \"ticks\": \"\", \"zerolinecolor\": \"white\", \"zerolinewidth\": 2}}}, \"title\": {\"x\": 0, \"xref\": \"paper\"}, \"xaxis\": {\"title\": {\"font\": {\"color\": \"#7f7f7f\", \"family\": \"Courier New, monospace\", \"size\": 18}}, \"type\": \"category\"}, \"yaxis\": {\"title\": {\"font\": {\"color\": \"#7f7f7f\", \"family\": \"Courier New, monospace\", \"size\": 18}}}},\n",
       "                        {\"responsive\": true}\n",
       "                    ).then(function(){\n",
       "                            \n",
       "var gd = document.getElementById('1a5be7a0-cb2b-4401-ab07-5500a821bc93');\n",
       "var x = new MutationObserver(function (mutations, observer) {{\n",
       "        var display = window.getComputedStyle(gd).display;\n",
       "        if (!display || display === 'none') {{\n",
       "            console.log([gd, 'removed!']);\n",
       "            Plotly.purge(gd);\n",
       "            observer.disconnect();\n",
       "        }}\n",
       "}});\n",
       "\n",
       "// Listen for the removal of the full notebook cells\n",
       "var notebookContainer = gd.closest('#notebook-container');\n",
       "if (notebookContainer) {{\n",
       "    x.observe(notebookContainer, {childList: true});\n",
       "}}\n",
       "\n",
       "// Listen for the clearing of the current output cell\n",
       "var outputEl = gd.closest('.output');\n",
       "if (outputEl) {{\n",
       "    x.observe(outputEl, {childList: true});\n",
       "}}\n",
       "\n",
       "                        })\n",
       "                };\n",
       "                });\n",
       "            </script>\n",
       "        </div>"
      ]
     },
     "metadata": {},
     "output_type": "display_data"
    }
   ],
   "source": [
    "import plotly.graph_objects as go\n",
    "import plotly.figure_factory as ff\n",
    "\n",
    "\n",
    "fig = go.Figure(data=go.Heatmap(\n",
    "                   z=pivoted,\n",
    "                   x=x_axis,\n",
    "                   y=list(pivoted.index),\n",
    "    colorscale=[\n",
    "        [0.0, \"rgb(254, 254, 254)\"],\n",
    "        [0.1, \"rgb(234, 250, 243)\"],\n",
    "        [0.2,  \"rgb(214, 245, 231)\"],\n",
    "        [0.3, \"rgb(154,232,195)\"],   \n",
    "        [0.4, \"rgb(93,218,159)\"],   \n",
    "        [0.5, \"rgb(53,209,135)\"],        \n",
    "        [0.6, \"rgb(47,188,121)\"],\n",
    "        [0.7, \"rgb(42,167,108)\"],\n",
    "        [0.8, \"rgb(31,125,81)\"],\n",
    "        [0.9, \"rgb(21,83,54)\"],\n",
    "        [1.0, \"rgb(15,62,40)\"]\n",
    "    ]))\n",
    "\n",
    "\n",
    "fig.update_layout(\n",
    "    title=go.layout.Title(\n",
    "#         text=\"Plot Title\",\n",
    "        xref=\"paper\",\n",
    "        x=0\n",
    "    ),\n",
    "    \n",
    "    xaxis=go.layout.XAxis(\n",
    "        title=go.layout.xaxis.Title(\n",
    "            font=dict(\n",
    "                family=\"Courier New, monospace\",\n",
    "                size=18,\n",
    "                color=\"#7f7f7f\"\n",
    "            ) \n",
    "        ), type=\"category\"\n",
    "    ),\n",
    "    yaxis=go.layout.YAxis(\n",
    "        title=go.layout.yaxis.Title(\n",
    "            font=dict(\n",
    "                family=\"Courier New, monospace\",\n",
    "                size=18,\n",
    "                color=\"#7f7f7f\"\n",
    "            )\n",
    "\n",
    "\n",
    "        )\n",
    "    )\n",
    ")\n",
    "\n",
    "\n",
    "\n",
    "\n",
    "fig.show()"
   ]
  },
  {
   "cell_type": "code",
   "execution_count": null,
   "metadata": {},
   "outputs": [],
   "source": []
  }
 ],
 "metadata": {
  "kernelspec": {
   "display_name": "A2CatBoost",
   "language": "python",
   "name": "a2catboost"
  },
  "language_info": {
   "codemirror_mode": {
    "name": "ipython",
    "version": 3
   },
   "file_extension": ".py",
   "mimetype": "text/x-python",
   "name": "python",
   "nbconvert_exporter": "python",
   "pygments_lexer": "ipython3",
   "version": "3.6.8"
  }
 },
 "nbformat": 4,
 "nbformat_minor": 2
}
