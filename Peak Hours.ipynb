{
 "cells": [
  {
   "cell_type": "code",
   "execution_count": 79,
   "metadata": {},
   "outputs": [
    {
     "data": {
      "text/html": [
       "        <script type=\"text/javascript\">\n",
       "        window.PlotlyConfig = {MathJaxConfig: 'local'};\n",
       "        if (window.MathJax) {MathJax.Hub.Config({SVG: {font: \"STIX-Web\"}});}\n",
       "        if (typeof require !== 'undefined') {\n",
       "        require.undef(\"plotly\");\n",
       "        requirejs.config({\n",
       "            paths: {\n",
       "                'plotly': ['https://cdn.plot.ly/plotly-latest.min']\n",
       "            }\n",
       "        });\n",
       "        require(['plotly'], function(Plotly) {\n",
       "            window._Plotly = Plotly;\n",
       "        });\n",
       "        }\n",
       "        </script>\n",
       "        "
      ]
     },
     "metadata": {},
     "output_type": "display_data"
    }
   ],
   "source": [
    "import numpy as np\n",
    "import pandas as pd\n",
    "import plotly.graph_objs as go\n",
    "import plotly.io as pio\n",
    "import datetime as dy\n",
    "from plotly.offline import init_notebook_mode, iplot\n",
    "init_notebook_mode(connected=True)"
   ]
  },
  {
   "cell_type": "code",
   "execution_count": 5,
   "metadata": {},
   "outputs": [
    {
     "data": {
      "text/html": [
       "<div>\n",
       "<style scoped>\n",
       "    .dataframe tbody tr th:only-of-type {\n",
       "        vertical-align: middle;\n",
       "    }\n",
       "\n",
       "    .dataframe tbody tr th {\n",
       "        vertical-align: top;\n",
       "    }\n",
       "\n",
       "    .dataframe thead th {\n",
       "        text-align: right;\n",
       "    }\n",
       "</style>\n",
       "<table border=\"1\" class=\"dataframe\">\n",
       "  <thead>\n",
       "    <tr style=\"text-align: right;\">\n",
       "      <th></th>\n",
       "      <th>idx</th>\n",
       "      <th>WeekdayHour</th>\n",
       "      <th>AVERAGE of All users in the app (unique)</th>\n",
       "      <th>Peak</th>\n",
       "    </tr>\n",
       "  </thead>\n",
       "  <tbody>\n",
       "    <tr>\n",
       "      <td>0</td>\n",
       "      <td>1</td>\n",
       "      <td>Monday 00</td>\n",
       "      <td>33.0</td>\n",
       "      <td>no</td>\n",
       "    </tr>\n",
       "    <tr>\n",
       "      <td>1</td>\n",
       "      <td>2</td>\n",
       "      <td>Monday 01</td>\n",
       "      <td>18.0</td>\n",
       "      <td>no</td>\n",
       "    </tr>\n",
       "    <tr>\n",
       "      <td>2</td>\n",
       "      <td>3</td>\n",
       "      <td>Monday 02</td>\n",
       "      <td>10.6</td>\n",
       "      <td>no</td>\n",
       "    </tr>\n",
       "    <tr>\n",
       "      <td>3</td>\n",
       "      <td>4</td>\n",
       "      <td>Monday 03</td>\n",
       "      <td>6.2</td>\n",
       "      <td>no</td>\n",
       "    </tr>\n",
       "    <tr>\n",
       "      <td>4</td>\n",
       "      <td>5</td>\n",
       "      <td>Monday 04</td>\n",
       "      <td>7.2</td>\n",
       "      <td>no</td>\n",
       "    </tr>\n",
       "    <tr>\n",
       "      <td>...</td>\n",
       "      <td>...</td>\n",
       "      <td>...</td>\n",
       "      <td>...</td>\n",
       "      <td>...</td>\n",
       "    </tr>\n",
       "    <tr>\n",
       "      <td>163</td>\n",
       "      <td>164</td>\n",
       "      <td>Sunday 19</td>\n",
       "      <td>62.4</td>\n",
       "      <td>no</td>\n",
       "    </tr>\n",
       "    <tr>\n",
       "      <td>164</td>\n",
       "      <td>165</td>\n",
       "      <td>Sunday 20</td>\n",
       "      <td>55.6</td>\n",
       "      <td>no</td>\n",
       "    </tr>\n",
       "    <tr>\n",
       "      <td>165</td>\n",
       "      <td>166</td>\n",
       "      <td>Sunday 21</td>\n",
       "      <td>45.6</td>\n",
       "      <td>no</td>\n",
       "    </tr>\n",
       "    <tr>\n",
       "      <td>166</td>\n",
       "      <td>167</td>\n",
       "      <td>Sunday 22</td>\n",
       "      <td>59.0</td>\n",
       "      <td>no</td>\n",
       "    </tr>\n",
       "    <tr>\n",
       "      <td>167</td>\n",
       "      <td>168</td>\n",
       "      <td>Sunday 23</td>\n",
       "      <td>47.6</td>\n",
       "      <td>no</td>\n",
       "    </tr>\n",
       "  </tbody>\n",
       "</table>\n",
       "<p>168 rows × 4 columns</p>\n",
       "</div>"
      ],
      "text/plain": [
       "     idx WeekdayHour  AVERAGE of All users in the app (unique) Peak\n",
       "0      1   Monday 00                                      33.0   no\n",
       "1      2   Monday 01                                      18.0   no\n",
       "2      3   Monday 02                                      10.6   no\n",
       "3      4   Monday 03                                       6.2   no\n",
       "4      5   Monday 04                                       7.2   no\n",
       "..   ...         ...                                       ...  ...\n",
       "163  164   Sunday 19                                      62.4   no\n",
       "164  165   Sunday 20                                      55.6   no\n",
       "165  166   Sunday 21                                      45.6   no\n",
       "166  167   Sunday 22                                      59.0   no\n",
       "167  168   Sunday 23                                      47.6   no\n",
       "\n",
       "[168 rows x 4 columns]"
      ]
     },
     "execution_count": 5,
     "metadata": {},
     "output_type": "execute_result"
    }
   ],
   "source": [
    "df = pd.read_csv('/home/polina/Downloads/PeakHours.csv')"
   ]
  },
  {
   "cell_type": "code",
   "execution_count": 82,
   "metadata": {},
   "outputs": [
    {
     "data": {
      "application/vnd.plotly.v1+json": {
       "config": {
        "plotlyServerURL": "https://plot.ly"
       },
       "data": [
        {
         "line": {
          "color": "gray"
         },
         "name": "regular hours",
         "type": "scattergl",
         "x": [
          "Monday 00",
          "Monday 01",
          "Monday 02",
          "Monday 03",
          "Monday 04",
          "Monday 05",
          "Monday 06",
          "Monday 07",
          "Monday 08",
          "Monday 09",
          "Monday 10",
          "Monday 11",
          "Monday 12",
          "Monday 13",
          "Monday 14",
          "Monday 15",
          "Monday 16",
          "Monday 17",
          "Monday 18",
          "Monday 19",
          "Monday 20",
          "Monday 21",
          "Monday 22",
          "Monday 23",
          "Tuesday 00",
          "Tuesday 01",
          "Tuesday 02",
          "Tuesday 03",
          "Tuesday 04",
          "Tuesday 05",
          "Tuesday 06",
          "Tuesday 07",
          "Tuesday 08",
          "Tuesday 09",
          "Tuesday 10",
          "Tuesday 11",
          "Tuesday 12",
          "Tuesday 13",
          "Tuesday 14",
          "Tuesday 15",
          "Tuesday 16",
          "Tuesday 17",
          "Tuesday 18",
          "Tuesday 19",
          "Tuesday 20",
          "Tuesday 21",
          "Tuesday 22",
          "Tuesday 23",
          "Wednesday 00",
          "Wednesday 01",
          "Wednesday 02",
          "Wednesday 03",
          "Wednesday 04",
          "Wednesday 05",
          "Wednesday 06",
          "Wednesday 07",
          "Wednesday 08",
          "Wednesday 09",
          "Wednesday 10",
          "Wednesday 11",
          "Wednesday 12",
          "Wednesday 13",
          "Wednesday 14",
          "Wednesday 15",
          "Wednesday 16",
          "Wednesday 17",
          "Wednesday 18",
          "Wednesday 19",
          "Wednesday 20",
          "Wednesday 21",
          "Wednesday 22",
          "Wednesday 23",
          "Thursday 00",
          "Thursday 01",
          "Thursday 02",
          "Thursday 03",
          "Thursday 04",
          "Thursday 05",
          "Thursday 06",
          "Thursday 07",
          "Thursday 08",
          "Thursday 09",
          "Thursday 10",
          "Thursday 11",
          "Thursday 12",
          "Thursday 13",
          "Thursday 14",
          "Thursday 15",
          "Thursday 16",
          "Thursday 17",
          "Thursday 18",
          "Thursday 19",
          "Thursday 20",
          "Thursday 21",
          "Thursday 22",
          "Thursday 23",
          "Friday 00",
          "Friday 01",
          "Friday 02",
          "Friday 03",
          "Friday 04",
          "Friday 05",
          "Friday 06",
          "Friday 07",
          "Friday 08",
          "Friday 09",
          "Friday 10",
          "Friday 11",
          "Friday 12",
          "Friday 13",
          "Friday 14",
          "Friday 15",
          "Friday 16",
          "Friday 17",
          "Friday 18",
          "Friday 19",
          "Friday 20",
          "Friday 21",
          "Friday 22",
          "Friday 23",
          "Saturday 00",
          "Saturday 01",
          "Saturday 02",
          "Saturday 03",
          "Saturday 04",
          "Saturday 05",
          "Saturday 06",
          "Saturday 07",
          "Saturday 08",
          "Saturday 09",
          "Saturday 10",
          "Saturday 11",
          "Saturday 12",
          "Saturday 13",
          "Saturday 14",
          "Saturday 15",
          "Saturday 16",
          "Saturday 17",
          "Saturday 18",
          "Saturday 19",
          "Saturday 20",
          "Saturday 21",
          "Saturday 22",
          "Saturday 23",
          "Sunday 00",
          "Sunday 01",
          "Sunday 02",
          "Sunday 03",
          "Sunday 04",
          "Sunday 05",
          "Sunday 06",
          "Sunday 07",
          "Sunday 08",
          "Sunday 09",
          "Sunday 10",
          "Sunday 11",
          "Sunday 12",
          "Sunday 13",
          "Sunday 14",
          "Sunday 15",
          "Sunday 16",
          "Sunday 17",
          "Sunday 18",
          "Sunday 19",
          "Sunday 20",
          "Sunday 21",
          "Sunday 22",
          "Sunday 23"
         ],
         "y": [
          33,
          18,
          10.6,
          6.2,
          7.2,
          4,
          11.8,
          42.2,
          71.4,
          84.6,
          56.6,
          29.6,
          29.8,
          29.4,
          29.2,
          28.2,
          36,
          46.2,
          76.4,
          73.4,
          47.6,
          42.4,
          43.8,
          33.6,
          27.6,
          14.2,
          7.2,
          4.6,
          3.2,
          3.4,
          9.8,
          36.6,
          78.6,
          92.8,
          53.2,
          36.4,
          34.4,
          33.6,
          31.2,
          30.2,
          43.6,
          59.8,
          103.8,
          96.8,
          69,
          64.2,
          66,
          59.6,
          42.8,
          25.8,
          13.6,
          17.2,
          19,
          8.6,
          12.2,
          31.8,
          71.6,
          88.8,
          49,
          29.8,
          33.6,
          37.6,
          32.4,
          36,
          36,
          87,
          110,
          101,
          68.6,
          57.2,
          66.8,
          70,
          58.8,
          27.8,
          25.8,
          23.8,
          13.2,
          5.4,
          7.4,
          30.6,
          69.4,
          80.8,
          58.4,
          41.6,
          37.8,
          41.4,
          37.2,
          38.2,
          49.8,
          83.8,
          128.4,
          116.8,
          94,
          77.8,
          67,
          79.2,
          66.6,
          39.4,
          33.4,
          33.8,
          20,
          8.2,
          6.6,
          34.8,
          71.2,
          102.2,
          67,
          50.8,
          47,
          52.2,
          57.2,
          70.4,
          67.8,
          83.8,
          116.4,
          119.6,
          113.8,
          98.2,
          75.8,
          71.4,
          79.2,
          74.2,
          73,
          80.4,
          69,
          22.8,
          11.6,
          14.4,
          21.8,
          32.4,
          38.4,
          39.8,
          40.2,
          31.6,
          44.4,
          41.4,
          40.2,
          47,
          49.6,
          71,
          74,
          62.6,
          57.8,
          63.6,
          70.6,
          65.2,
          48.6,
          49,
          49,
          26.4,
          11.8,
          7.4,
          16.6,
          20,
          22.8,
          33.6,
          44.2,
          45.2,
          39.8,
          38,
          49.2,
          55.4,
          60.2,
          62.4,
          55.6,
          45.6,
          59,
          47.6
         ]
        },
        {
         "line": {
          "color": "rgb(53,209,135)"
         },
         "name": "peak hours",
         "type": "scattergl",
         "x": [
          "Monday 00",
          "Monday 01",
          "Monday 02",
          "Monday 03",
          "Monday 04",
          "Monday 05",
          "Monday 06",
          "Monday 07",
          "Monday 08",
          "Monday 09",
          "Monday 10",
          "Monday 11",
          "Monday 12",
          "Monday 13",
          "Monday 14",
          "Monday 15",
          "Monday 16",
          "Monday 17",
          "Monday 18",
          "Monday 19",
          "Monday 20",
          "Monday 21",
          "Monday 22",
          "Monday 23",
          "Tuesday 00",
          "Tuesday 01",
          "Tuesday 02",
          "Tuesday 03",
          "Tuesday 04",
          "Tuesday 05",
          "Tuesday 06",
          "Tuesday 07",
          "Tuesday 08",
          "Tuesday 09",
          "Tuesday 10",
          "Tuesday 11",
          "Tuesday 12",
          "Tuesday 13",
          "Tuesday 14",
          "Tuesday 15",
          "Tuesday 16",
          "Tuesday 17",
          "Tuesday 18",
          "Tuesday 19",
          "Tuesday 20",
          "Tuesday 21",
          "Tuesday 22",
          "Tuesday 23",
          "Wednesday 00",
          "Wednesday 01",
          "Wednesday 02",
          "Wednesday 03",
          "Wednesday 04",
          "Wednesday 05",
          "Wednesday 06",
          "Wednesday 07",
          "Wednesday 08",
          "Wednesday 09",
          "Wednesday 10",
          "Wednesday 11",
          "Wednesday 12",
          "Wednesday 13",
          "Wednesday 14",
          "Wednesday 15",
          "Wednesday 16",
          "Wednesday 17",
          "Wednesday 18",
          "Wednesday 19",
          "Wednesday 20",
          "Wednesday 21",
          "Wednesday 22",
          "Wednesday 23",
          "Thursday 00",
          "Thursday 01",
          "Thursday 02",
          "Thursday 03",
          "Thursday 04",
          "Thursday 05",
          "Thursday 06",
          "Thursday 07",
          "Thursday 08",
          "Thursday 09",
          "Thursday 10",
          "Thursday 11",
          "Thursday 12",
          "Thursday 13",
          "Thursday 14",
          "Thursday 15",
          "Thursday 16",
          "Thursday 17",
          "Thursday 18",
          "Thursday 19",
          "Thursday 20",
          "Thursday 21",
          "Thursday 22",
          "Thursday 23",
          "Friday 00",
          "Friday 01",
          "Friday 02",
          "Friday 03",
          "Friday 04",
          "Friday 05",
          "Friday 06",
          "Friday 07",
          "Friday 08",
          "Friday 09",
          "Friday 10",
          "Friday 11",
          "Friday 12",
          "Friday 13",
          "Friday 14",
          "Friday 15",
          "Friday 16",
          "Friday 17",
          "Friday 18",
          "Friday 19",
          "Friday 20",
          "Friday 21",
          "Friday 22",
          "Friday 23",
          "Saturday 00",
          "Saturday 01",
          "Saturday 02",
          "Saturday 03",
          "Saturday 04",
          "Saturday 05",
          "Saturday 06",
          "Saturday 07",
          "Saturday 08",
          "Saturday 09",
          "Saturday 10",
          "Saturday 11",
          "Saturday 12",
          "Saturday 13",
          "Saturday 14",
          "Saturday 15",
          "Saturday 16",
          "Saturday 17",
          "Saturday 18",
          "Saturday 19",
          "Saturday 20",
          "Saturday 21",
          "Saturday 22",
          "Saturday 23",
          "Sunday 00",
          "Sunday 01",
          "Sunday 02",
          "Sunday 03",
          "Sunday 04",
          "Sunday 05",
          "Sunday 06",
          "Sunday 07",
          "Sunday 08",
          "Sunday 09",
          "Sunday 10",
          "Sunday 11",
          "Sunday 12",
          "Sunday 13",
          "Sunday 14",
          "Sunday 15",
          "Sunday 16",
          "Sunday 17",
          "Sunday 18",
          "Sunday 19",
          "Sunday 20",
          "Sunday 21",
          "Sunday 22",
          "Sunday 23"
         ],
         "y": [
          null,
          null,
          null,
          null,
          null,
          null,
          null,
          null,
          71.4,
          84.6,
          null,
          null,
          null,
          null,
          null,
          null,
          null,
          null,
          76.4,
          73.4,
          null,
          null,
          null,
          null,
          null,
          null,
          null,
          null,
          null,
          null,
          null,
          null,
          78.6,
          92.8,
          null,
          null,
          null,
          null,
          null,
          null,
          null,
          null,
          103.8,
          96.8,
          null,
          null,
          null,
          null,
          null,
          null,
          null,
          null,
          null,
          null,
          null,
          null,
          71.6,
          88.8,
          null,
          null,
          null,
          null,
          null,
          null,
          null,
          87,
          110,
          101,
          null,
          null,
          null,
          null,
          null,
          null,
          null,
          null,
          null,
          null,
          null,
          null,
          null,
          80.8,
          null,
          null,
          null,
          null,
          null,
          null,
          null,
          83.8,
          128.4,
          116.8,
          94,
          77.8,
          null,
          79.2,
          null,
          null,
          null,
          null,
          null,
          null,
          null,
          null,
          71.2,
          102.2,
          null,
          null,
          null,
          null,
          null,
          null,
          null,
          83.8,
          116.4,
          119.6,
          113.8,
          98.2,
          75.8,
          71.4,
          79.2,
          74.2,
          73,
          80.4,
          null,
          null,
          null,
          null,
          null,
          null,
          null,
          null,
          null,
          null,
          null,
          null,
          null,
          null,
          null,
          71,
          74,
          null,
          null,
          null,
          70.6,
          null,
          null,
          null,
          null,
          null,
          null,
          null,
          null,
          null,
          null,
          null,
          null,
          null,
          null,
          null,
          null,
          null,
          null,
          null,
          null,
          null,
          null,
          null
         ]
        }
       ],
       "layout": {
        "autosize": true,
        "legend": {
         "bgcolor": "white",
         "bordercolor": "white",
         "borderwidth": 2,
         "font": {
          "color": "black",
          "family": "Arial",
          "size": 12
         },
         "traceorder": "normal",
         "x": 0.88,
         "y": 1
        },
        "margin": {
         "autoexpand": true,
         "l": 100,
         "r": 20,
         "t": 110
        },
        "plot_bgcolor": "white",
        "showlegend": true,
        "template": {
         "data": {
          "bar": [
           {
            "error_x": {
             "color": "#2a3f5f"
            },
            "error_y": {
             "color": "#2a3f5f"
            },
            "marker": {
             "line": {
              "color": "#E5ECF6",
              "width": 0.5
             }
            },
            "type": "bar"
           }
          ],
          "barpolar": [
           {
            "marker": {
             "line": {
              "color": "#E5ECF6",
              "width": 0.5
             }
            },
            "type": "barpolar"
           }
          ],
          "carpet": [
           {
            "aaxis": {
             "endlinecolor": "#2a3f5f",
             "gridcolor": "white",
             "linecolor": "white",
             "minorgridcolor": "white",
             "startlinecolor": "#2a3f5f"
            },
            "baxis": {
             "endlinecolor": "#2a3f5f",
             "gridcolor": "white",
             "linecolor": "white",
             "minorgridcolor": "white",
             "startlinecolor": "#2a3f5f"
            },
            "type": "carpet"
           }
          ],
          "choropleth": [
           {
            "colorbar": {
             "outlinewidth": 0,
             "ticks": ""
            },
            "type": "choropleth"
           }
          ],
          "contour": [
           {
            "colorbar": {
             "outlinewidth": 0,
             "ticks": ""
            },
            "colorscale": [
             [
              0,
              "#0d0887"
             ],
             [
              0.1111111111111111,
              "#46039f"
             ],
             [
              0.2222222222222222,
              "#7201a8"
             ],
             [
              0.3333333333333333,
              "#9c179e"
             ],
             [
              0.4444444444444444,
              "#bd3786"
             ],
             [
              0.5555555555555556,
              "#d8576b"
             ],
             [
              0.6666666666666666,
              "#ed7953"
             ],
             [
              0.7777777777777778,
              "#fb9f3a"
             ],
             [
              0.8888888888888888,
              "#fdca26"
             ],
             [
              1,
              "#f0f921"
             ]
            ],
            "type": "contour"
           }
          ],
          "contourcarpet": [
           {
            "colorbar": {
             "outlinewidth": 0,
             "ticks": ""
            },
            "type": "contourcarpet"
           }
          ],
          "heatmap": [
           {
            "colorbar": {
             "outlinewidth": 0,
             "ticks": ""
            },
            "colorscale": [
             [
              0,
              "#0d0887"
             ],
             [
              0.1111111111111111,
              "#46039f"
             ],
             [
              0.2222222222222222,
              "#7201a8"
             ],
             [
              0.3333333333333333,
              "#9c179e"
             ],
             [
              0.4444444444444444,
              "#bd3786"
             ],
             [
              0.5555555555555556,
              "#d8576b"
             ],
             [
              0.6666666666666666,
              "#ed7953"
             ],
             [
              0.7777777777777778,
              "#fb9f3a"
             ],
             [
              0.8888888888888888,
              "#fdca26"
             ],
             [
              1,
              "#f0f921"
             ]
            ],
            "type": "heatmap"
           }
          ],
          "heatmapgl": [
           {
            "colorbar": {
             "outlinewidth": 0,
             "ticks": ""
            },
            "colorscale": [
             [
              0,
              "#0d0887"
             ],
             [
              0.1111111111111111,
              "#46039f"
             ],
             [
              0.2222222222222222,
              "#7201a8"
             ],
             [
              0.3333333333333333,
              "#9c179e"
             ],
             [
              0.4444444444444444,
              "#bd3786"
             ],
             [
              0.5555555555555556,
              "#d8576b"
             ],
             [
              0.6666666666666666,
              "#ed7953"
             ],
             [
              0.7777777777777778,
              "#fb9f3a"
             ],
             [
              0.8888888888888888,
              "#fdca26"
             ],
             [
              1,
              "#f0f921"
             ]
            ],
            "type": "heatmapgl"
           }
          ],
          "histogram": [
           {
            "marker": {
             "colorbar": {
              "outlinewidth": 0,
              "ticks": ""
             }
            },
            "type": "histogram"
           }
          ],
          "histogram2d": [
           {
            "colorbar": {
             "outlinewidth": 0,
             "ticks": ""
            },
            "colorscale": [
             [
              0,
              "#0d0887"
             ],
             [
              0.1111111111111111,
              "#46039f"
             ],
             [
              0.2222222222222222,
              "#7201a8"
             ],
             [
              0.3333333333333333,
              "#9c179e"
             ],
             [
              0.4444444444444444,
              "#bd3786"
             ],
             [
              0.5555555555555556,
              "#d8576b"
             ],
             [
              0.6666666666666666,
              "#ed7953"
             ],
             [
              0.7777777777777778,
              "#fb9f3a"
             ],
             [
              0.8888888888888888,
              "#fdca26"
             ],
             [
              1,
              "#f0f921"
             ]
            ],
            "type": "histogram2d"
           }
          ],
          "histogram2dcontour": [
           {
            "colorbar": {
             "outlinewidth": 0,
             "ticks": ""
            },
            "colorscale": [
             [
              0,
              "#0d0887"
             ],
             [
              0.1111111111111111,
              "#46039f"
             ],
             [
              0.2222222222222222,
              "#7201a8"
             ],
             [
              0.3333333333333333,
              "#9c179e"
             ],
             [
              0.4444444444444444,
              "#bd3786"
             ],
             [
              0.5555555555555556,
              "#d8576b"
             ],
             [
              0.6666666666666666,
              "#ed7953"
             ],
             [
              0.7777777777777778,
              "#fb9f3a"
             ],
             [
              0.8888888888888888,
              "#fdca26"
             ],
             [
              1,
              "#f0f921"
             ]
            ],
            "type": "histogram2dcontour"
           }
          ],
          "mesh3d": [
           {
            "colorbar": {
             "outlinewidth": 0,
             "ticks": ""
            },
            "type": "mesh3d"
           }
          ],
          "parcoords": [
           {
            "line": {
             "colorbar": {
              "outlinewidth": 0,
              "ticks": ""
             }
            },
            "type": "parcoords"
           }
          ],
          "scatter": [
           {
            "marker": {
             "colorbar": {
              "outlinewidth": 0,
              "ticks": ""
             }
            },
            "type": "scatter"
           }
          ],
          "scatter3d": [
           {
            "line": {
             "colorbar": {
              "outlinewidth": 0,
              "ticks": ""
             }
            },
            "marker": {
             "colorbar": {
              "outlinewidth": 0,
              "ticks": ""
             }
            },
            "type": "scatter3d"
           }
          ],
          "scattercarpet": [
           {
            "marker": {
             "colorbar": {
              "outlinewidth": 0,
              "ticks": ""
             }
            },
            "type": "scattercarpet"
           }
          ],
          "scattergeo": [
           {
            "marker": {
             "colorbar": {
              "outlinewidth": 0,
              "ticks": ""
             }
            },
            "type": "scattergeo"
           }
          ],
          "scattergl": [
           {
            "marker": {
             "colorbar": {
              "outlinewidth": 0,
              "ticks": ""
             }
            },
            "type": "scattergl"
           }
          ],
          "scattermapbox": [
           {
            "marker": {
             "colorbar": {
              "outlinewidth": 0,
              "ticks": ""
             }
            },
            "type": "scattermapbox"
           }
          ],
          "scatterpolar": [
           {
            "marker": {
             "colorbar": {
              "outlinewidth": 0,
              "ticks": ""
             }
            },
            "type": "scatterpolar"
           }
          ],
          "scatterpolargl": [
           {
            "marker": {
             "colorbar": {
              "outlinewidth": 0,
              "ticks": ""
             }
            },
            "type": "scatterpolargl"
           }
          ],
          "scatterternary": [
           {
            "marker": {
             "colorbar": {
              "outlinewidth": 0,
              "ticks": ""
             }
            },
            "type": "scatterternary"
           }
          ],
          "surface": [
           {
            "colorbar": {
             "outlinewidth": 0,
             "ticks": ""
            },
            "colorscale": [
             [
              0,
              "#0d0887"
             ],
             [
              0.1111111111111111,
              "#46039f"
             ],
             [
              0.2222222222222222,
              "#7201a8"
             ],
             [
              0.3333333333333333,
              "#9c179e"
             ],
             [
              0.4444444444444444,
              "#bd3786"
             ],
             [
              0.5555555555555556,
              "#d8576b"
             ],
             [
              0.6666666666666666,
              "#ed7953"
             ],
             [
              0.7777777777777778,
              "#fb9f3a"
             ],
             [
              0.8888888888888888,
              "#fdca26"
             ],
             [
              1,
              "#f0f921"
             ]
            ],
            "type": "surface"
           }
          ],
          "table": [
           {
            "cells": {
             "fill": {
              "color": "#EBF0F8"
             },
             "line": {
              "color": "white"
             }
            },
            "header": {
             "fill": {
              "color": "#C8D4E3"
             },
             "line": {
              "color": "white"
             }
            },
            "type": "table"
           }
          ]
         },
         "layout": {
          "annotationdefaults": {
           "arrowcolor": "#2a3f5f",
           "arrowhead": 0,
           "arrowwidth": 1
          },
          "colorscale": {
           "diverging": [
            [
             0,
             "#8e0152"
            ],
            [
             0.1,
             "#c51b7d"
            ],
            [
             0.2,
             "#de77ae"
            ],
            [
             0.3,
             "#f1b6da"
            ],
            [
             0.4,
             "#fde0ef"
            ],
            [
             0.5,
             "#f7f7f7"
            ],
            [
             0.6,
             "#e6f5d0"
            ],
            [
             0.7,
             "#b8e186"
            ],
            [
             0.8,
             "#7fbc41"
            ],
            [
             0.9,
             "#4d9221"
            ],
            [
             1,
             "#276419"
            ]
           ],
           "sequential": [
            [
             0,
             "#0d0887"
            ],
            [
             0.1111111111111111,
             "#46039f"
            ],
            [
             0.2222222222222222,
             "#7201a8"
            ],
            [
             0.3333333333333333,
             "#9c179e"
            ],
            [
             0.4444444444444444,
             "#bd3786"
            ],
            [
             0.5555555555555556,
             "#d8576b"
            ],
            [
             0.6666666666666666,
             "#ed7953"
            ],
            [
             0.7777777777777778,
             "#fb9f3a"
            ],
            [
             0.8888888888888888,
             "#fdca26"
            ],
            [
             1,
             "#f0f921"
            ]
           ],
           "sequentialminus": [
            [
             0,
             "#0d0887"
            ],
            [
             0.1111111111111111,
             "#46039f"
            ],
            [
             0.2222222222222222,
             "#7201a8"
            ],
            [
             0.3333333333333333,
             "#9c179e"
            ],
            [
             0.4444444444444444,
             "#bd3786"
            ],
            [
             0.5555555555555556,
             "#d8576b"
            ],
            [
             0.6666666666666666,
             "#ed7953"
            ],
            [
             0.7777777777777778,
             "#fb9f3a"
            ],
            [
             0.8888888888888888,
             "#fdca26"
            ],
            [
             1,
             "#f0f921"
            ]
           ]
          },
          "colorway": [
           "#636efa",
           "#EF553B",
           "#00cc96",
           "#ab63fa",
           "#FFA15A",
           "#19d3f3",
           "#FF6692",
           "#B6E880",
           "#FF97FF",
           "#FECB52"
          ],
          "font": {
           "color": "#2a3f5f"
          },
          "geo": {
           "bgcolor": "white",
           "lakecolor": "white",
           "landcolor": "#E5ECF6",
           "showlakes": true,
           "showland": true,
           "subunitcolor": "white"
          },
          "hoverlabel": {
           "align": "left"
          },
          "hovermode": "closest",
          "mapbox": {
           "style": "light"
          },
          "paper_bgcolor": "white",
          "plot_bgcolor": "#E5ECF6",
          "polar": {
           "angularaxis": {
            "gridcolor": "white",
            "linecolor": "white",
            "ticks": ""
           },
           "bgcolor": "#E5ECF6",
           "radialaxis": {
            "gridcolor": "white",
            "linecolor": "white",
            "ticks": ""
           }
          },
          "scene": {
           "xaxis": {
            "backgroundcolor": "#E5ECF6",
            "gridcolor": "white",
            "gridwidth": 2,
            "linecolor": "white",
            "showbackground": true,
            "ticks": "",
            "zerolinecolor": "white"
           },
           "yaxis": {
            "backgroundcolor": "#E5ECF6",
            "gridcolor": "white",
            "gridwidth": 2,
            "linecolor": "white",
            "showbackground": true,
            "ticks": "",
            "zerolinecolor": "white"
           },
           "zaxis": {
            "backgroundcolor": "#E5ECF6",
            "gridcolor": "white",
            "gridwidth": 2,
            "linecolor": "white",
            "showbackground": true,
            "ticks": "",
            "zerolinecolor": "white"
           }
          },
          "shapedefaults": {
           "line": {
            "color": "#2a3f5f"
           }
          },
          "ternary": {
           "aaxis": {
            "gridcolor": "white",
            "linecolor": "white",
            "ticks": ""
           },
           "baxis": {
            "gridcolor": "white",
            "linecolor": "white",
            "ticks": ""
           },
           "bgcolor": "#E5ECF6",
           "caxis": {
            "gridcolor": "white",
            "linecolor": "white",
            "ticks": ""
           }
          },
          "title": {
           "x": 0.05
          },
          "xaxis": {
           "automargin": true,
           "gridcolor": "white",
           "linecolor": "white",
           "ticks": "",
           "zerolinecolor": "white",
           "zerolinewidth": 2
          },
          "yaxis": {
           "automargin": true,
           "gridcolor": "white",
           "linecolor": "white",
           "ticks": "",
           "zerolinecolor": "white",
           "zerolinewidth": 2
          }
         }
        },
        "xaxis": {
         "linecolor": "rgb(204, 204, 204)",
         "linewidth": 2,
         "showgrid": false,
         "showline": true,
         "showticklabels": true,
         "tickangle": 60,
         "tickfont": {
          "color": "rgb(82, 82, 82)",
          "family": "Arial",
          "size": 12
         },
         "ticks": "outside",
         "type": "category"
        },
        "yaxis": {
         "showgrid": true,
         "showline": true,
         "showticklabels": true,
         "title": {
          "font": {
           "color": "rgb(82, 82, 82)",
           "family": "Arial",
           "size": 30
          },
          "text": "Demand"
         },
         "zeroline": true
        }
       }
      },
      "text/html": [
       "<div>\n",
       "        \n",
       "        \n",
       "            <div id=\"8a8ff794-4061-4df5-84d7-7ce987a439f8\" class=\"plotly-graph-div\" style=\"height:525px; width:100%;\"></div>\n",
       "            <script type=\"text/javascript\">\n",
       "                require([\"plotly\"], function(Plotly) {\n",
       "                    window.PLOTLYENV=window.PLOTLYENV || {};\n",
       "                    \n",
       "                if (document.getElementById(\"8a8ff794-4061-4df5-84d7-7ce987a439f8\")) {\n",
       "                    Plotly.newPlot(\n",
       "                        '8a8ff794-4061-4df5-84d7-7ce987a439f8',\n",
       "                        [{\"line\": {\"color\": \"gray\"}, \"name\": \"regular hours\", \"type\": \"scattergl\", \"x\": [\"Monday 00\", \"Monday 01\", \"Monday 02\", \"Monday 03\", \"Monday 04\", \"Monday 05\", \"Monday 06\", \"Monday 07\", \"Monday 08\", \"Monday 09\", \"Monday 10\", \"Monday 11\", \"Monday 12\", \"Monday 13\", \"Monday 14\", \"Monday 15\", \"Monday 16\", \"Monday 17\", \"Monday 18\", \"Monday 19\", \"Monday 20\", \"Monday 21\", \"Monday 22\", \"Monday 23\", \"Tuesday 00\", \"Tuesday 01\", \"Tuesday 02\", \"Tuesday 03\", \"Tuesday 04\", \"Tuesday 05\", \"Tuesday 06\", \"Tuesday 07\", \"Tuesday 08\", \"Tuesday 09\", \"Tuesday 10\", \"Tuesday 11\", \"Tuesday 12\", \"Tuesday 13\", \"Tuesday 14\", \"Tuesday 15\", \"Tuesday 16\", \"Tuesday 17\", \"Tuesday 18\", \"Tuesday 19\", \"Tuesday 20\", \"Tuesday 21\", \"Tuesday 22\", \"Tuesday 23\", \"Wednesday 00\", \"Wednesday 01\", \"Wednesday 02\", \"Wednesday 03\", \"Wednesday 04\", \"Wednesday 05\", \"Wednesday 06\", \"Wednesday 07\", \"Wednesday 08\", \"Wednesday 09\", \"Wednesday 10\", \"Wednesday 11\", \"Wednesday 12\", \"Wednesday 13\", \"Wednesday 14\", \"Wednesday 15\", \"Wednesday 16\", \"Wednesday 17\", \"Wednesday 18\", \"Wednesday 19\", \"Wednesday 20\", \"Wednesday 21\", \"Wednesday 22\", \"Wednesday 23\", \"Thursday 00\", \"Thursday 01\", \"Thursday 02\", \"Thursday 03\", \"Thursday 04\", \"Thursday 05\", \"Thursday 06\", \"Thursday 07\", \"Thursday 08\", \"Thursday 09\", \"Thursday 10\", \"Thursday 11\", \"Thursday 12\", \"Thursday 13\", \"Thursday 14\", \"Thursday 15\", \"Thursday 16\", \"Thursday 17\", \"Thursday 18\", \"Thursday 19\", \"Thursday 20\", \"Thursday 21\", \"Thursday 22\", \"Thursday 23\", \"Friday 00\", \"Friday 01\", \"Friday 02\", \"Friday 03\", \"Friday 04\", \"Friday 05\", \"Friday 06\", \"Friday 07\", \"Friday 08\", \"Friday 09\", \"Friday 10\", \"Friday 11\", \"Friday 12\", \"Friday 13\", \"Friday 14\", \"Friday 15\", \"Friday 16\", \"Friday 17\", \"Friday 18\", \"Friday 19\", \"Friday 20\", \"Friday 21\", \"Friday 22\", \"Friday 23\", \"Saturday 00\", \"Saturday 01\", \"Saturday 02\", \"Saturday 03\", \"Saturday 04\", \"Saturday 05\", \"Saturday 06\", \"Saturday 07\", \"Saturday 08\", \"Saturday 09\", \"Saturday 10\", \"Saturday 11\", \"Saturday 12\", \"Saturday 13\", \"Saturday 14\", \"Saturday 15\", \"Saturday 16\", \"Saturday 17\", \"Saturday 18\", \"Saturday 19\", \"Saturday 20\", \"Saturday 21\", \"Saturday 22\", \"Saturday 23\", \"Sunday 00\", \"Sunday 01\", \"Sunday 02\", \"Sunday 03\", \"Sunday 04\", \"Sunday 05\", \"Sunday 06\", \"Sunday 07\", \"Sunday 08\", \"Sunday 09\", \"Sunday 10\", \"Sunday 11\", \"Sunday 12\", \"Sunday 13\", \"Sunday 14\", \"Sunday 15\", \"Sunday 16\", \"Sunday 17\", \"Sunday 18\", \"Sunday 19\", \"Sunday 20\", \"Sunday 21\", \"Sunday 22\", \"Sunday 23\"], \"y\": [33.0, 18.0, 10.6, 6.2, 7.2, 4.0, 11.8, 42.2, 71.4, 84.6, 56.6, 29.6, 29.8, 29.4, 29.2, 28.2, 36.0, 46.2, 76.4, 73.4, 47.6, 42.4, 43.8, 33.6, 27.6, 14.2, 7.2, 4.6, 3.2, 3.4, 9.8, 36.6, 78.6, 92.8, 53.2, 36.4, 34.4, 33.6, 31.2, 30.2, 43.6, 59.8, 103.8, 96.8, 69.0, 64.2, 66.0, 59.6, 42.8, 25.8, 13.6, 17.2, 19.0, 8.6, 12.2, 31.8, 71.6, 88.8, 49.0, 29.8, 33.6, 37.6, 32.4, 36.0, 36.0, 87.0, 110.0, 101.0, 68.6, 57.2, 66.8, 70.0, 58.8, 27.8, 25.8, 23.8, 13.2, 5.4, 7.4, 30.6, 69.4, 80.8, 58.4, 41.6, 37.8, 41.4, 37.2, 38.2, 49.8, 83.8, 128.4, 116.8, 94.0, 77.8, 67.0, 79.2, 66.6, 39.4, 33.4, 33.8, 20.0, 8.2, 6.6, 34.8, 71.2, 102.2, 67.0, 50.8, 47.0, 52.2, 57.2, 70.4, 67.8, 83.8, 116.4, 119.6, 113.8, 98.2, 75.8, 71.4, 79.2, 74.2, 73.0, 80.4, 69.0, 22.8, 11.6, 14.4, 21.8, 32.4, 38.4, 39.8, 40.2, 31.6, 44.4, 41.4, 40.2, 47.0, 49.6, 71.0, 74.0, 62.6, 57.8, 63.6, 70.6, 65.2, 48.6, 49.0, 49.0, 26.4, 11.8, 7.4, 16.6, 20.0, 22.8, 33.6, 44.2, 45.2, 39.8, 38.0, 49.2, 55.4, 60.2, 62.4, 55.6, 45.6, 59.0, 47.6]}, {\"line\": {\"color\": \"rgb(53,209,135)\"}, \"name\": \"peak hours\", \"type\": \"scattergl\", \"x\": [\"Monday 00\", \"Monday 01\", \"Monday 02\", \"Monday 03\", \"Monday 04\", \"Monday 05\", \"Monday 06\", \"Monday 07\", \"Monday 08\", \"Monday 09\", \"Monday 10\", \"Monday 11\", \"Monday 12\", \"Monday 13\", \"Monday 14\", \"Monday 15\", \"Monday 16\", \"Monday 17\", \"Monday 18\", \"Monday 19\", \"Monday 20\", \"Monday 21\", \"Monday 22\", \"Monday 23\", \"Tuesday 00\", \"Tuesday 01\", \"Tuesday 02\", \"Tuesday 03\", \"Tuesday 04\", \"Tuesday 05\", \"Tuesday 06\", \"Tuesday 07\", \"Tuesday 08\", \"Tuesday 09\", \"Tuesday 10\", \"Tuesday 11\", \"Tuesday 12\", \"Tuesday 13\", \"Tuesday 14\", \"Tuesday 15\", \"Tuesday 16\", \"Tuesday 17\", \"Tuesday 18\", \"Tuesday 19\", \"Tuesday 20\", \"Tuesday 21\", \"Tuesday 22\", \"Tuesday 23\", \"Wednesday 00\", \"Wednesday 01\", \"Wednesday 02\", \"Wednesday 03\", \"Wednesday 04\", \"Wednesday 05\", \"Wednesday 06\", \"Wednesday 07\", \"Wednesday 08\", \"Wednesday 09\", \"Wednesday 10\", \"Wednesday 11\", \"Wednesday 12\", \"Wednesday 13\", \"Wednesday 14\", \"Wednesday 15\", \"Wednesday 16\", \"Wednesday 17\", \"Wednesday 18\", \"Wednesday 19\", \"Wednesday 20\", \"Wednesday 21\", \"Wednesday 22\", \"Wednesday 23\", \"Thursday 00\", \"Thursday 01\", \"Thursday 02\", \"Thursday 03\", \"Thursday 04\", \"Thursday 05\", \"Thursday 06\", \"Thursday 07\", \"Thursday 08\", \"Thursday 09\", \"Thursday 10\", \"Thursday 11\", \"Thursday 12\", \"Thursday 13\", \"Thursday 14\", \"Thursday 15\", \"Thursday 16\", \"Thursday 17\", \"Thursday 18\", \"Thursday 19\", \"Thursday 20\", \"Thursday 21\", \"Thursday 22\", \"Thursday 23\", \"Friday 00\", \"Friday 01\", \"Friday 02\", \"Friday 03\", \"Friday 04\", \"Friday 05\", \"Friday 06\", \"Friday 07\", \"Friday 08\", \"Friday 09\", \"Friday 10\", \"Friday 11\", \"Friday 12\", \"Friday 13\", \"Friday 14\", \"Friday 15\", \"Friday 16\", \"Friday 17\", \"Friday 18\", \"Friday 19\", \"Friday 20\", \"Friday 21\", \"Friday 22\", \"Friday 23\", \"Saturday 00\", \"Saturday 01\", \"Saturday 02\", \"Saturday 03\", \"Saturday 04\", \"Saturday 05\", \"Saturday 06\", \"Saturday 07\", \"Saturday 08\", \"Saturday 09\", \"Saturday 10\", \"Saturday 11\", \"Saturday 12\", \"Saturday 13\", \"Saturday 14\", \"Saturday 15\", \"Saturday 16\", \"Saturday 17\", \"Saturday 18\", \"Saturday 19\", \"Saturday 20\", \"Saturday 21\", \"Saturday 22\", \"Saturday 23\", \"Sunday 00\", \"Sunday 01\", \"Sunday 02\", \"Sunday 03\", \"Sunday 04\", \"Sunday 05\", \"Sunday 06\", \"Sunday 07\", \"Sunday 08\", \"Sunday 09\", \"Sunday 10\", \"Sunday 11\", \"Sunday 12\", \"Sunday 13\", \"Sunday 14\", \"Sunday 15\", \"Sunday 16\", \"Sunday 17\", \"Sunday 18\", \"Sunday 19\", \"Sunday 20\", \"Sunday 21\", \"Sunday 22\", \"Sunday 23\"], \"y\": [null, null, null, null, null, null, null, null, 71.4, 84.6, null, null, null, null, null, null, null, null, 76.4, 73.4, null, null, null, null, null, null, null, null, null, null, null, null, 78.6, 92.8, null, null, null, null, null, null, null, null, 103.8, 96.8, null, null, null, null, null, null, null, null, null, null, null, null, 71.6, 88.8, null, null, null, null, null, null, null, 87.0, 110.0, 101.0, null, null, null, null, null, null, null, null, null, null, null, null, null, 80.8, null, null, null, null, null, null, null, 83.8, 128.4, 116.8, 94.0, 77.8, null, 79.2, null, null, null, null, null, null, null, null, 71.2, 102.2, null, null, null, null, null, null, null, 83.8, 116.4, 119.6, 113.8, 98.2, 75.8, 71.4, 79.2, 74.2, 73.0, 80.4, null, null, null, null, null, null, null, null, null, null, null, null, null, null, null, 71.0, 74.0, null, null, null, 70.6, null, null, null, null, null, null, null, null, null, null, null, null, null, null, null, null, null, null, null, null, null, null, null]}],\n",
       "                        {\"autosize\": true, \"legend\": {\"bgcolor\": \"white\", \"bordercolor\": \"white\", \"borderwidth\": 2, \"font\": {\"color\": \"black\", \"family\": \"Arial\", \"size\": 12}, \"traceorder\": \"normal\", \"x\": 0.88, \"y\": 1}, \"margin\": {\"autoexpand\": true, \"l\": 100, \"r\": 20, \"t\": 110}, \"plot_bgcolor\": \"white\", \"showlegend\": true, \"template\": {\"data\": {\"bar\": [{\"error_x\": {\"color\": \"#2a3f5f\"}, \"error_y\": {\"color\": \"#2a3f5f\"}, \"marker\": {\"line\": {\"color\": \"#E5ECF6\", \"width\": 0.5}}, \"type\": \"bar\"}], \"barpolar\": [{\"marker\": {\"line\": {\"color\": \"#E5ECF6\", \"width\": 0.5}}, \"type\": \"barpolar\"}], \"carpet\": [{\"aaxis\": {\"endlinecolor\": \"#2a3f5f\", \"gridcolor\": \"white\", \"linecolor\": \"white\", \"minorgridcolor\": \"white\", \"startlinecolor\": \"#2a3f5f\"}, \"baxis\": {\"endlinecolor\": \"#2a3f5f\", \"gridcolor\": \"white\", \"linecolor\": \"white\", \"minorgridcolor\": \"white\", \"startlinecolor\": \"#2a3f5f\"}, \"type\": \"carpet\"}], \"choropleth\": [{\"colorbar\": {\"outlinewidth\": 0, \"ticks\": \"\"}, \"type\": \"choropleth\"}], \"contour\": [{\"colorbar\": {\"outlinewidth\": 0, \"ticks\": \"\"}, \"colorscale\": [[0.0, \"#0d0887\"], [0.1111111111111111, \"#46039f\"], [0.2222222222222222, \"#7201a8\"], [0.3333333333333333, \"#9c179e\"], [0.4444444444444444, \"#bd3786\"], [0.5555555555555556, \"#d8576b\"], [0.6666666666666666, \"#ed7953\"], [0.7777777777777778, \"#fb9f3a\"], [0.8888888888888888, \"#fdca26\"], [1.0, \"#f0f921\"]], \"type\": \"contour\"}], \"contourcarpet\": [{\"colorbar\": {\"outlinewidth\": 0, \"ticks\": \"\"}, \"type\": \"contourcarpet\"}], \"heatmap\": [{\"colorbar\": {\"outlinewidth\": 0, \"ticks\": \"\"}, \"colorscale\": [[0.0, \"#0d0887\"], [0.1111111111111111, \"#46039f\"], [0.2222222222222222, \"#7201a8\"], [0.3333333333333333, \"#9c179e\"], [0.4444444444444444, \"#bd3786\"], [0.5555555555555556, \"#d8576b\"], [0.6666666666666666, \"#ed7953\"], [0.7777777777777778, \"#fb9f3a\"], [0.8888888888888888, \"#fdca26\"], [1.0, \"#f0f921\"]], \"type\": \"heatmap\"}], \"heatmapgl\": [{\"colorbar\": {\"outlinewidth\": 0, \"ticks\": \"\"}, \"colorscale\": [[0.0, \"#0d0887\"], [0.1111111111111111, \"#46039f\"], [0.2222222222222222, \"#7201a8\"], [0.3333333333333333, \"#9c179e\"], [0.4444444444444444, \"#bd3786\"], [0.5555555555555556, \"#d8576b\"], [0.6666666666666666, \"#ed7953\"], [0.7777777777777778, \"#fb9f3a\"], [0.8888888888888888, \"#fdca26\"], [1.0, \"#f0f921\"]], \"type\": \"heatmapgl\"}], \"histogram\": [{\"marker\": {\"colorbar\": {\"outlinewidth\": 0, \"ticks\": \"\"}}, \"type\": \"histogram\"}], \"histogram2d\": [{\"colorbar\": {\"outlinewidth\": 0, \"ticks\": \"\"}, \"colorscale\": [[0.0, \"#0d0887\"], [0.1111111111111111, \"#46039f\"], [0.2222222222222222, \"#7201a8\"], [0.3333333333333333, \"#9c179e\"], [0.4444444444444444, \"#bd3786\"], [0.5555555555555556, \"#d8576b\"], [0.6666666666666666, \"#ed7953\"], [0.7777777777777778, \"#fb9f3a\"], [0.8888888888888888, \"#fdca26\"], [1.0, \"#f0f921\"]], \"type\": \"histogram2d\"}], \"histogram2dcontour\": [{\"colorbar\": {\"outlinewidth\": 0, \"ticks\": \"\"}, \"colorscale\": [[0.0, \"#0d0887\"], [0.1111111111111111, \"#46039f\"], [0.2222222222222222, \"#7201a8\"], [0.3333333333333333, \"#9c179e\"], [0.4444444444444444, \"#bd3786\"], [0.5555555555555556, \"#d8576b\"], [0.6666666666666666, \"#ed7953\"], [0.7777777777777778, \"#fb9f3a\"], [0.8888888888888888, \"#fdca26\"], [1.0, \"#f0f921\"]], \"type\": \"histogram2dcontour\"}], \"mesh3d\": [{\"colorbar\": {\"outlinewidth\": 0, \"ticks\": \"\"}, \"type\": \"mesh3d\"}], \"parcoords\": [{\"line\": {\"colorbar\": {\"outlinewidth\": 0, \"ticks\": \"\"}}, \"type\": \"parcoords\"}], \"scatter\": [{\"marker\": {\"colorbar\": {\"outlinewidth\": 0, \"ticks\": \"\"}}, \"type\": \"scatter\"}], \"scatter3d\": [{\"line\": {\"colorbar\": {\"outlinewidth\": 0, \"ticks\": \"\"}}, \"marker\": {\"colorbar\": {\"outlinewidth\": 0, \"ticks\": \"\"}}, \"type\": \"scatter3d\"}], \"scattercarpet\": [{\"marker\": {\"colorbar\": {\"outlinewidth\": 0, \"ticks\": \"\"}}, \"type\": \"scattercarpet\"}], \"scattergeo\": [{\"marker\": {\"colorbar\": {\"outlinewidth\": 0, \"ticks\": \"\"}}, \"type\": \"scattergeo\"}], \"scattergl\": [{\"marker\": {\"colorbar\": {\"outlinewidth\": 0, \"ticks\": \"\"}}, \"type\": \"scattergl\"}], \"scattermapbox\": [{\"marker\": {\"colorbar\": {\"outlinewidth\": 0, \"ticks\": \"\"}}, \"type\": \"scattermapbox\"}], \"scatterpolar\": [{\"marker\": {\"colorbar\": {\"outlinewidth\": 0, \"ticks\": \"\"}}, \"type\": \"scatterpolar\"}], \"scatterpolargl\": [{\"marker\": {\"colorbar\": {\"outlinewidth\": 0, \"ticks\": \"\"}}, \"type\": \"scatterpolargl\"}], \"scatterternary\": [{\"marker\": {\"colorbar\": {\"outlinewidth\": 0, \"ticks\": \"\"}}, \"type\": \"scatterternary\"}], \"surface\": [{\"colorbar\": {\"outlinewidth\": 0, \"ticks\": \"\"}, \"colorscale\": [[0.0, \"#0d0887\"], [0.1111111111111111, \"#46039f\"], [0.2222222222222222, \"#7201a8\"], [0.3333333333333333, \"#9c179e\"], [0.4444444444444444, \"#bd3786\"], [0.5555555555555556, \"#d8576b\"], [0.6666666666666666, \"#ed7953\"], [0.7777777777777778, \"#fb9f3a\"], [0.8888888888888888, \"#fdca26\"], [1.0, \"#f0f921\"]], \"type\": \"surface\"}], \"table\": [{\"cells\": {\"fill\": {\"color\": \"#EBF0F8\"}, \"line\": {\"color\": \"white\"}}, \"header\": {\"fill\": {\"color\": \"#C8D4E3\"}, \"line\": {\"color\": \"white\"}}, \"type\": \"table\"}]}, \"layout\": {\"annotationdefaults\": {\"arrowcolor\": \"#2a3f5f\", \"arrowhead\": 0, \"arrowwidth\": 1}, \"colorscale\": {\"diverging\": [[0, \"#8e0152\"], [0.1, \"#c51b7d\"], [0.2, \"#de77ae\"], [0.3, \"#f1b6da\"], [0.4, \"#fde0ef\"], [0.5, \"#f7f7f7\"], [0.6, \"#e6f5d0\"], [0.7, \"#b8e186\"], [0.8, \"#7fbc41\"], [0.9, \"#4d9221\"], [1, \"#276419\"]], \"sequential\": [[0.0, \"#0d0887\"], [0.1111111111111111, \"#46039f\"], [0.2222222222222222, \"#7201a8\"], [0.3333333333333333, \"#9c179e\"], [0.4444444444444444, \"#bd3786\"], [0.5555555555555556, \"#d8576b\"], [0.6666666666666666, \"#ed7953\"], [0.7777777777777778, \"#fb9f3a\"], [0.8888888888888888, \"#fdca26\"], [1.0, \"#f0f921\"]], \"sequentialminus\": [[0.0, \"#0d0887\"], [0.1111111111111111, \"#46039f\"], [0.2222222222222222, \"#7201a8\"], [0.3333333333333333, \"#9c179e\"], [0.4444444444444444, \"#bd3786\"], [0.5555555555555556, \"#d8576b\"], [0.6666666666666666, \"#ed7953\"], [0.7777777777777778, \"#fb9f3a\"], [0.8888888888888888, \"#fdca26\"], [1.0, \"#f0f921\"]]}, \"colorway\": [\"#636efa\", \"#EF553B\", \"#00cc96\", \"#ab63fa\", \"#FFA15A\", \"#19d3f3\", \"#FF6692\", \"#B6E880\", \"#FF97FF\", \"#FECB52\"], \"font\": {\"color\": \"#2a3f5f\"}, \"geo\": {\"bgcolor\": \"white\", \"lakecolor\": \"white\", \"landcolor\": \"#E5ECF6\", \"showlakes\": true, \"showland\": true, \"subunitcolor\": \"white\"}, \"hoverlabel\": {\"align\": \"left\"}, \"hovermode\": \"closest\", \"mapbox\": {\"style\": \"light\"}, \"paper_bgcolor\": \"white\", \"plot_bgcolor\": \"#E5ECF6\", \"polar\": {\"angularaxis\": {\"gridcolor\": \"white\", \"linecolor\": \"white\", \"ticks\": \"\"}, \"bgcolor\": \"#E5ECF6\", \"radialaxis\": {\"gridcolor\": \"white\", \"linecolor\": \"white\", \"ticks\": \"\"}}, \"scene\": {\"xaxis\": {\"backgroundcolor\": \"#E5ECF6\", \"gridcolor\": \"white\", \"gridwidth\": 2, \"linecolor\": \"white\", \"showbackground\": true, \"ticks\": \"\", \"zerolinecolor\": \"white\"}, \"yaxis\": {\"backgroundcolor\": \"#E5ECF6\", \"gridcolor\": \"white\", \"gridwidth\": 2, \"linecolor\": \"white\", \"showbackground\": true, \"ticks\": \"\", \"zerolinecolor\": \"white\"}, \"zaxis\": {\"backgroundcolor\": \"#E5ECF6\", \"gridcolor\": \"white\", \"gridwidth\": 2, \"linecolor\": \"white\", \"showbackground\": true, \"ticks\": \"\", \"zerolinecolor\": \"white\"}}, \"shapedefaults\": {\"line\": {\"color\": \"#2a3f5f\"}}, \"ternary\": {\"aaxis\": {\"gridcolor\": \"white\", \"linecolor\": \"white\", \"ticks\": \"\"}, \"baxis\": {\"gridcolor\": \"white\", \"linecolor\": \"white\", \"ticks\": \"\"}, \"bgcolor\": \"#E5ECF6\", \"caxis\": {\"gridcolor\": \"white\", \"linecolor\": \"white\", \"ticks\": \"\"}}, \"title\": {\"x\": 0.05}, \"xaxis\": {\"automargin\": true, \"gridcolor\": \"white\", \"linecolor\": \"white\", \"ticks\": \"\", \"zerolinecolor\": \"white\", \"zerolinewidth\": 2}, \"yaxis\": {\"automargin\": true, \"gridcolor\": \"white\", \"linecolor\": \"white\", \"ticks\": \"\", \"zerolinecolor\": \"white\", \"zerolinewidth\": 2}}}, \"xaxis\": {\"linecolor\": \"rgb(204, 204, 204)\", \"linewidth\": 2, \"showgrid\": false, \"showline\": true, \"showticklabels\": true, \"tickangle\": 60, \"tickfont\": {\"color\": \"rgb(82, 82, 82)\", \"family\": \"Arial\", \"size\": 12}, \"ticks\": \"outside\", \"type\": \"category\"}, \"yaxis\": {\"showgrid\": true, \"showline\": true, \"showticklabels\": true, \"title\": {\"font\": {\"color\": \"rgb(82, 82, 82)\", \"family\": \"Arial\", \"size\": 30}, \"text\": \"Demand\"}, \"zeroline\": true}},\n",
       "                        {\"responsive\": true}\n",
       "                    ).then(function(){\n",
       "                            \n",
       "var gd = document.getElementById('8a8ff794-4061-4df5-84d7-7ce987a439f8');\n",
       "var x = new MutationObserver(function (mutations, observer) {{\n",
       "        var display = window.getComputedStyle(gd).display;\n",
       "        if (!display || display === 'none') {{\n",
       "            console.log([gd, 'removed!']);\n",
       "            Plotly.purge(gd);\n",
       "            observer.disconnect();\n",
       "        }}\n",
       "}});\n",
       "\n",
       "// Listen for the removal of the full notebook cells\n",
       "var notebookContainer = gd.closest('#notebook-container');\n",
       "if (notebookContainer) {{\n",
       "    x.observe(notebookContainer, {childList: true});\n",
       "}}\n",
       "\n",
       "// Listen for the clearing of the current output cell\n",
       "var outputEl = gd.closest('.output');\n",
       "if (outputEl) {{\n",
       "    x.observe(outputEl, {childList: true});\n",
       "}}\n",
       "\n",
       "                        })\n",
       "                };\n",
       "                });\n",
       "            </script>\n",
       "        </div>"
      ]
     },
     "metadata": {},
     "output_type": "display_data"
    }
   ],
   "source": [
    "fig = go.Figure()\n",
    "\n",
    "fig.add_scattergl(y=df['AVERAGE of All users in the app (unique)'], x=df['WeekdayHour'], \n",
    "                  line={'color': 'gray'},  name=\"regular hours\")\n",
    "\n",
    "fig.add_scattergl(y=df['AVERAGE of All users in the app (unique)'].where(df['AVERAGE of All users in the app (unique)'] >= 70.5),\n",
    "                  x=df['WeekdayHour'], line_color='rgb(53,209,135)', name=\"peak hours\")\n",
    "\n",
    "\n",
    "fig.update_layout(\n",
    "    xaxis=dict( \n",
    "        showline=True,\n",
    "        showgrid=False,\n",
    "        showticklabels=True,\n",
    "        tickangle=60,\n",
    "        type = 'category',\n",
    "        linecolor='rgb(204, 204, 204)',\n",
    "        linewidth=2,\n",
    "        ticks='outside',\n",
    "        tickfont=dict(\n",
    "            family='Arial',\n",
    "            size=12,\n",
    "            color='rgb(82, 82, 82)'\n",
    "        ),\n",
    "    ),\n",
    "    yaxis=dict(\n",
    "        title=go.layout.yaxis.Title(\n",
    "            text=\"Demand\",\n",
    "            font=dict(\n",
    "                family=\"Arial\",\n",
    "                size=30,\n",
    "                color='rgb(82, 82, 82)'\n",
    "            )\n",
    "        ),\n",
    "        showgrid=True,\n",
    "        zeroline=True,\n",
    "        showline=True,\n",
    "        showticklabels=True,\n",
    "    ),\n",
    "    \n",
    "    \n",
    "    legend=go.layout.Legend(\n",
    "        x=0.88,\n",
    "        y=1,\n",
    "        traceorder=\"normal\",\n",
    "        font=dict(\n",
    "            family=\"Arial\",\n",
    "            size=12,\n",
    "            color=\"black\"\n",
    "        ),\n",
    "        bgcolor=\"white\",\n",
    "        bordercolor=\"white\",\n",
    "        borderwidth=2\n",
    "    ),\n",
    "\n",
    "    autosize=True,\n",
    "    margin=dict(\n",
    "        autoexpand=True,\n",
    "        l=100,\n",
    "        r=20,\n",
    "        t=110,\n",
    "    ),\n",
    "    showlegend=True,\n",
    "    \n",
    "    plot_bgcolor='white'\n",
    ")\n",
    "\n",
    "\n",
    "fig.show()"
   ]
  }
 ],
 "metadata": {
  "kernelspec": {
   "display_name": "A2CatBoost",
   "language": "python",
   "name": "a2catboost"
  },
  "language_info": {
   "codemirror_mode": {
    "name": "ipython",
    "version": 3
   },
   "file_extension": ".py",
   "mimetype": "text/x-python",
   "name": "python",
   "nbconvert_exporter": "python",
   "pygments_lexer": "ipython3",
   "version": "3.6.8"
  }
 },
 "nbformat": 4,
 "nbformat_minor": 2
}
